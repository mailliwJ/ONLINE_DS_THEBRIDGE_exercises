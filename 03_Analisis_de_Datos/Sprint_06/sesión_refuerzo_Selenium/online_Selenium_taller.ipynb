{
 "cells": [
  {
   "attachments": {},
   "cell_type": "markdown",
   "metadata": {
    "collapsed": false,
    "pycharm": {
     "name": "#%% md\n"
    }
   },
   "source": [
    "# Web Scraping con Selenium\n",
    "\n",
    "##### Vamos a ver como acceder a una web creando un bot con la librería Selenium que interactuará con la página\n"
   ]
  },
  {
   "attachments": {},
   "cell_type": "markdown",
   "metadata": {
    "collapsed": false,
    "pycharm": {
     "name": "#%% md\n"
    }
   },
   "source": [
    "## 1. Instalación de librerías\n",
    "\n",
    "Tenemos que usar las librerías Selenium y Webdriver_manager. Vamos a instalarlas:"
   ]
  },
  {
   "cell_type": "code",
   "execution_count": 1,
   "metadata": {
    "collapsed": false,
    "pycharm": {
     "name": "#%%\n"
    }
   },
   "outputs": [
    {
     "name": "stdout",
     "output_type": "stream",
     "text": [
      "Requirement already satisfied: selenium in c:\\users\\alberto romero\\appdata\\local\\programs\\python\\python312\\lib\\site-packages (4.22.0)\n",
      "Requirement already satisfied: urllib3<3,>=1.26 in c:\\users\\alberto romero\\appdata\\local\\programs\\python\\python312\\lib\\site-packages (from urllib3[socks]<3,>=1.26->selenium) (2.2.1)\n",
      "Requirement already satisfied: trio~=0.17 in c:\\users\\alberto romero\\appdata\\local\\programs\\python\\python312\\lib\\site-packages (from selenium) (0.26.0)\n",
      "Requirement already satisfied: trio-websocket~=0.9 in c:\\users\\alberto romero\\appdata\\local\\programs\\python\\python312\\lib\\site-packages (from selenium) (0.11.1)\n",
      "Requirement already satisfied: certifi>=2021.10.8 in c:\\users\\alberto romero\\appdata\\local\\programs\\python\\python312\\lib\\site-packages (from selenium) (2024.2.2)\n",
      "Requirement already satisfied: typing_extensions>=4.9.0 in c:\\users\\alberto romero\\appdata\\local\\programs\\python\\python312\\lib\\site-packages (from selenium) (4.11.0)\n",
      "Requirement already satisfied: websocket-client>=1.8.0 in c:\\users\\alberto romero\\appdata\\local\\programs\\python\\python312\\lib\\site-packages (from selenium) (1.8.0)\n",
      "Requirement already satisfied: attrs>=23.2.0 in c:\\users\\alberto romero\\appdata\\local\\programs\\python\\python312\\lib\\site-packages (from trio~=0.17->selenium) (23.2.0)\n",
      "Requirement already satisfied: sortedcontainers in c:\\users\\alberto romero\\appdata\\local\\programs\\python\\python312\\lib\\site-packages (from trio~=0.17->selenium) (2.4.0)\n",
      "Requirement already satisfied: idna in c:\\users\\alberto romero\\appdata\\local\\programs\\python\\python312\\lib\\site-packages (from trio~=0.17->selenium) (3.7)\n",
      "Requirement already satisfied: outcome in c:\\users\\alberto romero\\appdata\\local\\programs\\python\\python312\\lib\\site-packages (from trio~=0.17->selenium) (1.3.0.post0)\n",
      "Requirement already satisfied: sniffio>=1.3.0 in c:\\users\\alberto romero\\appdata\\local\\programs\\python\\python312\\lib\\site-packages (from trio~=0.17->selenium) (1.3.1)\n",
      "Requirement already satisfied: cffi>=1.14 in c:\\users\\alberto romero\\appdata\\local\\programs\\python\\python312\\lib\\site-packages (from trio~=0.17->selenium) (1.16.0)\n",
      "Requirement already satisfied: wsproto>=0.14 in c:\\users\\alberto romero\\appdata\\local\\programs\\python\\python312\\lib\\site-packages (from trio-websocket~=0.9->selenium) (1.2.0)\n",
      "Requirement already satisfied: pysocks!=1.5.7,<2.0,>=1.5.6 in c:\\users\\alberto romero\\appdata\\local\\programs\\python\\python312\\lib\\site-packages (from urllib3[socks]<3,>=1.26->selenium) (1.7.1)\n",
      "Requirement already satisfied: pycparser in c:\\users\\alberto romero\\appdata\\local\\programs\\python\\python312\\lib\\site-packages (from cffi>=1.14->trio~=0.17->selenium) (2.22)\n",
      "Requirement already satisfied: h11<1,>=0.9.0 in c:\\users\\alberto romero\\appdata\\local\\programs\\python\\python312\\lib\\site-packages (from wsproto>=0.14->trio-websocket~=0.9->selenium) (0.14.0)\n"
     ]
    },
    {
     "name": "stderr",
     "output_type": "stream",
     "text": [
      "\n",
      "[notice] A new release of pip is available: 24.0 -> 24.1.1\n",
      "[notice] To update, run: python.exe -m pip install --upgrade pip\n"
     ]
    },
    {
     "name": "stdout",
     "output_type": "stream",
     "text": [
      "Requirement already satisfied: webdriver_manager in c:\\users\\alberto romero\\appdata\\local\\programs\\python\\python312\\lib\\site-packages (4.0.1)\n",
      "Requirement already satisfied: requests in c:\\users\\alberto romero\\appdata\\local\\programs\\python\\python312\\lib\\site-packages (from webdriver_manager) (2.31.0)\n",
      "Requirement already satisfied: python-dotenv in c:\\users\\alberto romero\\appdata\\local\\programs\\python\\python312\\lib\\site-packages (from webdriver_manager) (1.0.1)\n",
      "Requirement already satisfied: packaging in c:\\users\\alberto romero\\appdata\\roaming\\python\\python312\\site-packages (from webdriver_manager) (24.0)\n",
      "Requirement already satisfied: charset-normalizer<4,>=2 in c:\\users\\alberto romero\\appdata\\local\\programs\\python\\python312\\lib\\site-packages (from requests->webdriver_manager) (3.3.2)\n",
      "Requirement already satisfied: idna<4,>=2.5 in c:\\users\\alberto romero\\appdata\\local\\programs\\python\\python312\\lib\\site-packages (from requests->webdriver_manager) (3.7)\n",
      "Requirement already satisfied: urllib3<3,>=1.21.1 in c:\\users\\alberto romero\\appdata\\local\\programs\\python\\python312\\lib\\site-packages (from requests->webdriver_manager) (2.2.1)\n",
      "Requirement already satisfied: certifi>=2017.4.17 in c:\\users\\alberto romero\\appdata\\local\\programs\\python\\python312\\lib\\site-packages (from requests->webdriver_manager) (2024.2.2)\n"
     ]
    },
    {
     "name": "stderr",
     "output_type": "stream",
     "text": [
      "\n",
      "[notice] A new release of pip is available: 24.0 -> 24.1.1\n",
      "[notice] To update, run: python.exe -m pip install --upgrade pip\n"
     ]
    }
   ],
   "source": [
    "!pip install selenium\n",
    "!pip install webdriver_manager"
   ]
  },
  {
   "attachments": {},
   "cell_type": "markdown",
   "metadata": {
    "collapsed": false,
    "pycharm": {
     "name": "#%% md\n"
    }
   },
   "source": [
    "## 2. Importación de las librerías"
   ]
  },
  {
   "cell_type": "code",
   "execution_count": 2,
   "metadata": {
    "collapsed": false,
    "pycharm": {
     "name": "#%%\n"
    }
   },
   "outputs": [],
   "source": [
    "from selenium.webdriver.support.ui import WebDriverWait\n",
    "from selenium.webdriver.support import expected_conditions as EC\n"
   ]
  },
  {
   "cell_type": "code",
   "execution_count": 3,
   "metadata": {},
   "outputs": [],
   "source": [
    "import pandas as pd\n",
    "\n",
    "from selenium import webdriver\n",
    "from selenium.webdriver.chrome.service import Service\n",
    "from webdriver_manager.chrome import ChromeDriverManager\n",
    "\n",
    "from selenium.webdriver.common.by import By\n",
    "\n",
    "from selenium.webdriver.common.keys import Keys\n",
    "\n",
    "import time"
   ]
  },
  {
   "attachments": {},
   "cell_type": "markdown",
   "metadata": {
    "collapsed": false,
    "pycharm": {
     "name": "#%% md\n"
    }
   },
   "source": [
    "## 3. Instalación del webdriver\n",
    "\n",
    "El webdriver es lo que nos va a permitir conectarnos con el navegador. Lo instalamos:"
   ]
  },
  {
   "cell_type": "code",
   "execution_count": 4,
   "metadata": {
    "collapsed": false,
    "pycharm": {
     "name": "#%%\n"
    }
   },
   "outputs": [],
   "source": [
    "service = Service(ChromeDriverManager().install())\n",
    "driver = webdriver.Chrome(service=service)"
   ]
  },
  {
   "attachments": {},
   "cell_type": "markdown",
   "metadata": {
    "collapsed": false,
    "pycharm": {
     "name": "#%% md\n"
    }
   },
   "source": [
    "## 4. Abrir web\n",
    "Abrimos la web en el driver ya podemos navegar y acceder a los elementos de la página"
   ]
  },
  {
   "cell_type": "code",
   "execution_count": 5,
   "metadata": {
    "collapsed": false,
    "pycharm": {
     "is_executing": true,
     "name": "#%%\n"
    }
   },
   "outputs": [],
   "source": [
    "url = \"https://filmaffinity.com\"\n",
    "driver.get(url)"
   ]
  },
  {
   "attachments": {},
   "cell_type": "markdown",
   "metadata": {
    "collapsed": false,
    "pycharm": {
     "name": "#%% md\n"
    }
   },
   "source": [
    "## 5. Scrapeo\n",
    "Empezamos lo interesante:"
   ]
  },
  {
   "attachments": {},
   "cell_type": "markdown",
   "metadata": {
    "collapsed": false,
    "pycharm": {
     "name": "#%% md\n"
    }
   },
   "source": [
    "Podemos acceder a elementos en la página de varias maneras:\n",
    "- Nombre de la etiqueta\n",
    "- Atributo: Clase\n",
    "- Atributo: ID\n",
    "- Atributo: Name\n",
    "- Selector: Xpath\n",
    "- Selector: CSS Selector\n",
    "\n",
    "Para ello vamos a usar el driver que hemos creado y el By."
   ]
  },
  {
   "attachments": {},
   "cell_type": "markdown",
   "metadata": {
    "collapsed": false,
    "pycharm": {
     "name": "#%% md\n"
    }
   },
   "source": [
    "##### Beginner Selenium Cheatsheet:\n",
    "Sacar un elemento:\n",
    "- element = driver.find_element(by, value)\n",
    "\n",
    "Sacar varios elementos:\n",
    "- element = driver.find_elements(by, value)\n",
    "\n",
    "Sacar atributos:\n",
    "- attribute = element.--el atributo--\n",
    "- attribute = element.get_attribute(--el atributo--)\n",
    "\n",
    "Hacer click:\n",
    "- element.click()\n",
    "\n",
    "Teclear:\n",
    "- element.send_keys()\n",
    "\n",
    "Gestión de pestañas:\n",
    "- driver.switch_to.window(driver.window_handles[-1])\n",
    "- driver.get(url)\n",
    "- driver.close()"
   ]
  },
  {
   "attachments": {},
   "cell_type": "markdown",
   "metadata": {
    "collapsed": false,
    "pycharm": {
     "name": "#%% md\n"
    }
   },
   "source": [
    "Vemos que hay un popup pidiendo que aceptemos las cookies. ¡Vamos a aceptarlo!"
   ]
  },
  {
   "cell_type": "code",
   "execution_count": 19,
   "metadata": {},
   "outputs": [
    {
     "name": "stdout",
     "output_type": "stream",
     "text": [
      "<class 'list'>\n",
      "socios\n",
      "MÁS OPCIONES\n",
      "NO ACEPTO\n",
      "ACEPTO\n",
      "ACEPTO\n",
      "<selenium.webdriver.remote.webelement.WebElement (session=\"5195180d7155f247eebd88360deeba9c\", element=\"f.E85BED3923B36F741785799DDBBFB4E6.d.72F05DF538D4E6CF13B2A0FAF06FA58D.e.23\")>\n"
     ]
    }
   ],
   "source": [
    "elements_by_tag = driver.find_elements(By.TAG_NAME, 'button')\n",
    "print(type(elements_by_tag))\n",
    "\n",
    "for i in elements_by_tag:\n",
    "    print(i.text)\n",
    "    \n",
    "# encontrar elementos por clase\n",
    "element_by_class_name = driver.find_element(By.CLASS_NAME, 'css-xlut8b')\n",
    "print(element_by_class_name.find_element(By.TAG_NAME, 'span').text)\n",
    "\n",
    "# encontrar elementos por XPATH \n",
    "\n",
    "element_by_xpath = driver.find_element(By.XPATH, '//*[@id=\"qc-cmp2-ui\"]/div[2]/div/button[3]')\n",
    "print(element_by_xpath)"
   ]
  },
  {
   "attachments": {},
   "cell_type": "markdown",
   "metadata": {},
   "source": [
    "### Dos formas de obtener todos los botones"
   ]
  },
  {
   "attachments": {},
   "cell_type": "markdown",
   "metadata": {},
   "source": [
    "Recorriendo la lista"
   ]
  },
  {
   "cell_type": "code",
   "execution_count": 20,
   "metadata": {},
   "outputs": [
    {
     "name": "stdout",
     "output_type": "stream",
     "text": [
      "socios\n",
      "MÁS OPCIONES\n",
      "NO ACEPTO\n",
      "ACEPTO\n"
     ]
    }
   ],
   "source": [
    "for i in elements_by_tag:\n",
    "    print(i.text)"
   ]
  },
  {
   "attachments": {},
   "cell_type": "markdown",
   "metadata": {},
   "source": [
    "Recorriendo los índices"
   ]
  },
  {
   "cell_type": "code",
   "execution_count": 21,
   "metadata": {},
   "outputs": [
    {
     "name": "stdout",
     "output_type": "stream",
     "text": [
      "4\n",
      "socios\n",
      "MÁS OPCIONES\n",
      "NO ACEPTO\n",
      "ACEPTO\n"
     ]
    }
   ],
   "source": [
    "print(len(elements_by_tag))\n",
    "for i in range(len(elements_by_tag)):\n",
    "    print(elements_by_tag[i].text)"
   ]
  },
  {
   "cell_type": "code",
   "execution_count": 23,
   "metadata": {
    "collapsed": false,
    "pycharm": {
     "name": "#%%\n"
    }
   },
   "outputs": [
    {
     "name": "stdout",
     "output_type": "stream",
     "text": [
      "etiqueta : button\n",
      "texto de la etiqueta: primary\n",
      "texto de la etiqueta: large\n"
     ]
    }
   ],
   "source": [
    "accept = driver.find_element(By.CLASS_NAME, 'css-xlut8b')\n",
    "print(\"etiqueta : {}\".format(accept.tag_name))\n",
    "print(\"texto de la etiqueta: {}\".format(accept.get_attribute('mode')))\n",
    "print(\"texto de la etiqueta: {}\".format(accept.get_attribute('size')))"
   ]
  },
  {
   "cell_type": "code",
   "execution_count": 24,
   "metadata": {},
   "outputs": [],
   "source": [
    "accept.click()"
   ]
  },
  {
   "attachments": {},
   "cell_type": "markdown",
   "metadata": {
    "collapsed": false,
    "pycharm": {
     "name": "#%% md\n"
    }
   },
   "source": [
    "Hacemos la búsqueda de una película"
   ]
  },
  {
   "cell_type": "code",
   "execution_count": 25,
   "metadata": {},
   "outputs": [
    {
     "data": {
      "text/plain": [
       "<selenium.webdriver.remote.webelement.WebElement (session=\"5195180d7155f247eebd88360deeba9c\", element=\"f.E85BED3923B36F741785799DDBBFB4E6.d.72F05DF538D4E6CF13B2A0FAF06FA58D.e.11\")>"
      ]
     },
     "execution_count": 25,
     "metadata": {},
     "output_type": "execute_result"
    }
   ],
   "source": [
    "#Búsqueda por etiqueta\n",
    "search = driver.find_element(By.TAG_NAME, 'input')\n",
    "search"
   ]
  },
  {
   "cell_type": "code",
   "execution_count": 26,
   "metadata": {},
   "outputs": [
    {
     "data": {
      "text/plain": [
       "<selenium.webdriver.remote.webelement.WebElement (session=\"5195180d7155f247eebd88360deeba9c\", element=\"f.E85BED3923B36F741785799DDBBFB4E6.d.72F05DF538D4E6CF13B2A0FAF06FA58D.e.11\")>"
      ]
     },
     "execution_count": 26,
     "metadata": {},
     "output_type": "execute_result"
    }
   ],
   "source": [
    "#Búsqueda por ID. Buscamos la barra de navegación de la página web\n",
    "search = driver.find_element(By.ID, 'top-search-input-2')\n",
    "search"
   ]
  },
  {
   "cell_type": "code",
   "execution_count": 27,
   "metadata": {},
   "outputs": [],
   "source": [
    "search.send_keys('Oblivion')"
   ]
  },
  {
   "cell_type": "code",
   "execution_count": 28,
   "metadata": {},
   "outputs": [],
   "source": [
    "search.clear()"
   ]
  },
  {
   "cell_type": "code",
   "execution_count": 29,
   "metadata": {},
   "outputs": [],
   "source": [
    "search.send_keys('Oblivion')"
   ]
  },
  {
   "cell_type": "code",
   "execution_count": 30,
   "metadata": {
    "collapsed": false,
    "pycharm": {
     "name": "#%%\n"
    }
   },
   "outputs": [
    {
     "data": {
      "text/plain": [
       "True"
      ]
     },
     "execution_count": 30,
     "metadata": {},
     "output_type": "execute_result"
    }
   ],
   "source": [
    "search.screenshot('buscador.png')\n"
   ]
  },
  {
   "cell_type": "code",
   "execution_count": 31,
   "metadata": {},
   "outputs": [],
   "source": [
    "time.sleep(5)\n",
    "\n",
    "search.send_keys(Keys.ENTER)"
   ]
  },
  {
   "attachments": {},
   "cell_type": "markdown",
   "metadata": {
    "collapsed": false,
    "pycharm": {
     "name": "#%% md\n"
    }
   },
   "source": [
    "Entramos en el primer resultado"
   ]
  },
  {
   "cell_type": "code",
   "execution_count": 33,
   "metadata": {
    "collapsed": false,
    "pycharm": {
     "name": "#%%\n"
    }
   },
   "outputs": [
    {
     "data": {
      "text/plain": [
       "<selenium.webdriver.remote.webelement.WebElement (session=\"5195180d7155f247eebd88360deeba9c\", element=\"f.E85BED3923B36F741785799DDBBFB4E6.d.00C4F0EDA719850CB2E9844A0AC15EA6.e.7152\")>"
      ]
     },
     "execution_count": 33,
     "metadata": {},
     "output_type": "execute_result"
    }
   ],
   "source": [
    "movie = driver.find_elements(By.CLASS_NAME, 'se-it')[0]\n",
    "\n",
    "movie = driver.find_element(By.CLASS_NAME, 'se-it')\n",
    "movie"
   ]
  },
  {
   "cell_type": "code",
   "execution_count": 35,
   "metadata": {},
   "outputs": [],
   "source": [
    "url = movie.find_element(By.CSS_SELECTOR, 'div.mc-title a')\n",
    "url = movie.find_element(By.CSS_SELECTOR, 'div.mc-info-container a')\n"
   ]
  },
  {
   "cell_type": "code",
   "execution_count": 36,
   "metadata": {},
   "outputs": [
    {
     "data": {
      "text/plain": [
       "'Oblivion'"
      ]
     },
     "execution_count": 36,
     "metadata": {},
     "output_type": "execute_result"
    }
   ],
   "source": [
    "#Accedemos mediante la clase al elemento a, que contiene el enlace (texto)\n",
    "url_titulo = movie.find_element(By.CLASS_NAME, 'mc-title')\n",
    "url=url_titulo.find_element(By.TAG_NAME, 'a')\n",
    "url.text"
   ]
  },
  {
   "cell_type": "code",
   "execution_count": 37,
   "metadata": {},
   "outputs": [],
   "source": [
    "url_poster = movie.find_element(by=By.CLASS_NAME, value='mc-poster')\n",
    "url = url_poster.find_element(By.TAG_NAME, value=\"a\")"
   ]
  },
  {
   "cell_type": "code",
   "execution_count": 38,
   "metadata": {},
   "outputs": [
    {
     "name": "stdout",
     "output_type": "stream",
     "text": [
      "https://www.filmaffinity.com/es/film618375.html\n"
     ]
    }
   ],
   "source": [
    "#Guardamos el enlace\n",
    "link = url.get_attribute('href')\n",
    "print(link)"
   ]
  },
  {
   "cell_type": "code",
   "execution_count": 39,
   "metadata": {},
   "outputs": [],
   "source": [
    "url_poster.click()"
   ]
  },
  {
   "cell_type": "code",
   "execution_count": null,
   "metadata": {},
   "outputs": [],
   "source": [
    "#Volver\n",
    "#driver.back()"
   ]
  },
  {
   "attachments": {},
   "cell_type": "markdown",
   "metadata": {
    "collapsed": false,
    "pycharm": {
     "name": "#%% md\n"
    }
   },
   "source": [
    "Vamos a sacar los datos principales de la película:"
   ]
  },
  {
   "cell_type": "code",
   "execution_count": 40,
   "metadata": {
    "collapsed": false,
    "pycharm": {
     "name": "#%%\n"
    }
   },
   "outputs": [
    {
     "name": "stdout",
     "output_type": "stream",
     "text": [
      "Título original - Oblivion\n",
      "Año - 2013\n",
      "Duración - 126 min.\n",
      "País -  Estados Unidos\n",
      "Dirección - Joseph Kosinski\n",
      "Guion - Joseph Kosinski, Michael Arndt, Karl Gajdusek. Cómic: Joseph Kosinski, Arvid Nelson\n",
      "Reparto - Tom Cruise\n",
      "Andrea Riseborough\n",
      "Olga Kurylenko\n",
      "Morgan Freeman\n",
      "Nikolaj Coster-Waldau\n",
      "Zoe Bell\n",
      "Música - Anthony Gonzalez, M83, Joseph Trapanese\n",
      "Fotografía - Claudio Miranda\n",
      "Compañías - Universal Pictures, Chernin Entertainment, Relativity Studios, Monolith Pictures, Radical Studios\n",
      "Género - Ciencia ficción. Intriga | Futuro postapocalíptico. Distopía. Cómic\n",
      "Sinopsis - Año 2073. Hace más de 60 años la Tierra fue atacada; se ganó la guerra, pero la mitad del planeta quedó destruido, y todos los seres humanos fueron evacuados. Jack Harper (Tom Cruise), un antiguo marine, es uno de los últimos hombres que la habitan. Es un ingeniero de Drones que participa en una operación para extraer los recursos vitales del planeta. Su misión consiste en patrullar diariamente los cielos. Un día, rescata a una desconocida de una nave espacial y, entonces, se ve obligado a replantearse sus convicciones más profundas. (FILMAFFINITY)\n"
     ]
    }
   ],
   "source": [
    "data = driver.find_element(By.CLASS_NAME, 'movie-info')\n",
    "dts = data.find_elements(By.TAG_NAME, 'dt')\n",
    "dds = data.find_elements(By.TAG_NAME, 'dd')\n",
    "\n",
    "#len(dts) == len(dds)\n",
    "movie_dict = dict()\n",
    "for i in range(len(dts)):\n",
    "    movie_dict[dts[i].text] = dds[i].text\n",
    "    print(f\"{dts[i].text} - {dds[i].text}\")"
   ]
  },
  {
   "cell_type": "code",
   "execution_count": 41,
   "metadata": {},
   "outputs": [
    {
     "data": {
      "text/plain": [
       "{'Título original': 'Oblivion',\n",
       " 'Año': '2013',\n",
       " 'Duración': '126 min.',\n",
       " 'País': ' Estados Unidos',\n",
       " 'Dirección': 'Joseph Kosinski',\n",
       " 'Guion': 'Joseph Kosinski, Michael Arndt, Karl Gajdusek. Cómic: Joseph Kosinski, Arvid Nelson',\n",
       " 'Reparto': 'Tom Cruise\\nAndrea Riseborough\\nOlga Kurylenko\\nMorgan Freeman\\nNikolaj Coster-Waldau\\nZoe Bell',\n",
       " 'Música': 'Anthony Gonzalez, M83, Joseph Trapanese',\n",
       " 'Fotografía': 'Claudio Miranda',\n",
       " 'Compañías': 'Universal Pictures, Chernin Entertainment, Relativity Studios, Monolith Pictures, Radical Studios',\n",
       " 'Género': 'Ciencia ficción. Intriga | Futuro postapocalíptico. Distopía. Cómic',\n",
       " 'Sinopsis': 'Año 2073. Hace más de 60 años la Tierra fue atacada; se ganó la guerra, pero la mitad del planeta quedó destruido, y todos los seres humanos fueron evacuados. Jack Harper (Tom Cruise), un antiguo marine, es uno de los últimos hombres que la habitan. Es un ingeniero de Drones que participa en una operación para extraer los recursos vitales del planeta. Su misión consiste en patrullar diariamente los cielos. Un día, rescata a una desconocida de una nave espacial y, entonces, se ve obligado a replantearse sus convicciones más profundas. (FILMAFFINITY)'}"
      ]
     },
     "execution_count": 41,
     "metadata": {},
     "output_type": "execute_result"
    }
   ],
   "source": [
    "movie_dict"
   ]
  },
  {
   "attachments": {},
   "cell_type": "markdown",
   "metadata": {},
   "source": [
    "#### Creamos un dataframe"
   ]
  },
  {
   "cell_type": "code",
   "execution_count": 42,
   "metadata": {},
   "outputs": [],
   "source": [
    "df= pd.DataFrame([movie_dict]) #es decir, mediante una lista de diccionarios (1 diccionario)\n"
   ]
  },
  {
   "cell_type": "code",
   "execution_count": 43,
   "metadata": {},
   "outputs": [
    {
     "data": {
      "text/html": [
       "<div>\n",
       "<style scoped>\n",
       "    .dataframe tbody tr th:only-of-type {\n",
       "        vertical-align: middle;\n",
       "    }\n",
       "\n",
       "    .dataframe tbody tr th {\n",
       "        vertical-align: top;\n",
       "    }\n",
       "\n",
       "    .dataframe thead th {\n",
       "        text-align: right;\n",
       "    }\n",
       "</style>\n",
       "<table border=\"1\" class=\"dataframe\">\n",
       "  <thead>\n",
       "    <tr style=\"text-align: right;\">\n",
       "      <th></th>\n",
       "      <th>Título original</th>\n",
       "      <th>Año</th>\n",
       "      <th>Duración</th>\n",
       "      <th>País</th>\n",
       "      <th>Dirección</th>\n",
       "      <th>Guion</th>\n",
       "      <th>Reparto</th>\n",
       "      <th>Música</th>\n",
       "      <th>Fotografía</th>\n",
       "      <th>Compañías</th>\n",
       "      <th>Género</th>\n",
       "      <th>Sinopsis</th>\n",
       "    </tr>\n",
       "  </thead>\n",
       "  <tbody>\n",
       "    <tr>\n",
       "      <th>0</th>\n",
       "      <td>Oblivion</td>\n",
       "      <td>2013</td>\n",
       "      <td>126 min.</td>\n",
       "      <td>Estados Unidos</td>\n",
       "      <td>Joseph Kosinski</td>\n",
       "      <td>Joseph Kosinski, Michael Arndt, Karl Gajdusek....</td>\n",
       "      <td>Tom Cruise\\nAndrea Riseborough\\nOlga Kurylenko...</td>\n",
       "      <td>Anthony Gonzalez, M83, Joseph Trapanese</td>\n",
       "      <td>Claudio Miranda</td>\n",
       "      <td>Universal Pictures, Chernin Entertainment, Rel...</td>\n",
       "      <td>Ciencia ficción. Intriga | Futuro postapocalíp...</td>\n",
       "      <td>Año 2073. Hace más de 60 años la Tierra fue at...</td>\n",
       "    </tr>\n",
       "  </tbody>\n",
       "</table>\n",
       "</div>"
      ],
      "text/plain": [
       "  Título original   Año  Duración             País        Dirección  \\\n",
       "0        Oblivion  2013  126 min.   Estados Unidos  Joseph Kosinski   \n",
       "\n",
       "                                               Guion  \\\n",
       "0  Joseph Kosinski, Michael Arndt, Karl Gajdusek....   \n",
       "\n",
       "                                             Reparto  \\\n",
       "0  Tom Cruise\\nAndrea Riseborough\\nOlga Kurylenko...   \n",
       "\n",
       "                                    Música       Fotografía  \\\n",
       "0  Anthony Gonzalez, M83, Joseph Trapanese  Claudio Miranda   \n",
       "\n",
       "                                           Compañías  \\\n",
       "0  Universal Pictures, Chernin Entertainment, Rel...   \n",
       "\n",
       "                                              Género  \\\n",
       "0  Ciencia ficción. Intriga | Futuro postapocalíp...   \n",
       "\n",
       "                                            Sinopsis  \n",
       "0  Año 2073. Hace más de 60 años la Tierra fue at...  "
      ]
     },
     "execution_count": 43,
     "metadata": {},
     "output_type": "execute_result"
    }
   ],
   "source": [
    "df"
   ]
  },
  {
   "attachments": {},
   "cell_type": "markdown",
   "metadata": {},
   "source": [
    "#### EXTRA"
   ]
  },
  {
   "attachments": {},
   "cell_type": "markdown",
   "metadata": {},
   "source": [
    "Abrir nueva ventana:"
   ]
  },
  {
   "cell_type": "code",
   "execution_count": 27,
   "metadata": {},
   "outputs": [],
   "source": [
    "driver.execute_script('window.open(\"\");')"
   ]
  },
  {
   "attachments": {},
   "cell_type": "markdown",
   "metadata": {},
   "source": [
    "Movernos a otra ventana"
   ]
  },
  {
   "cell_type": "code",
   "execution_count": 28,
   "metadata": {},
   "outputs": [],
   "source": [
    "driver.switch_to.window(driver.window_handles[-1])"
   ]
  },
  {
   "attachments": {},
   "cell_type": "markdown",
   "metadata": {},
   "source": [
    "Cerrar ventana"
   ]
  },
  {
   "cell_type": "code",
   "execution_count": 29,
   "metadata": {},
   "outputs": [],
   "source": [
    "driver.close()"
   ]
  }
 ],
 "metadata": {
  "kernelspec": {
   "display_name": "Python 3",
   "language": "python",
   "name": "python3"
  },
  "language_info": {
   "codemirror_mode": {
    "name": "ipython",
    "version": 3
   },
   "file_extension": ".py",
   "mimetype": "text/x-python",
   "name": "python",
   "nbconvert_exporter": "python",
   "pygments_lexer": "ipython3",
   "version": "3.12.3"
  },
  "vscode": {
   "interpreter": {
    "hash": "252189e587d1e2aeba4a06e91fa71896c7a7f6e22e918b9407c7cde4ef2d5985"
   }
  }
 },
 "nbformat": 4,
 "nbformat_minor": 0
}
