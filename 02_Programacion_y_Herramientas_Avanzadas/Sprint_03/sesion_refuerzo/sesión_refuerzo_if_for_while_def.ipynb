{
 "cells": [
  {
   "cell_type": "code",
   "execution_count": null,
   "metadata": {},
   "outputs": [],
   "source": [
    "# if, else, elif\n",
    "# for while (continue break)\n",
    "# def return "
   ]
  },
  {
   "cell_type": "code",
   "execution_count": 7,
   "metadata": {},
   "outputs": [
    {
     "name": "stdout",
     "output_type": "stream",
     "text": [
      "contraseña leída --> x vez --> 0\n",
      "contraseña leída --> x vez --> 1\n",
      "contraseña leída --> x vez --> 2\n",
      "contraseña bloqueada\n",
      "adiós, gracias\n"
     ]
    }
   ],
   "source": [
    "# contraseña\n",
    "# por defecto es python\n",
    "# 3 intentos para escribirla bien\n",
    "# si la escribo bien, imprimo \"todo OK\"\n",
    "# si como mucho en 3 intentos, no lo consigo, pongo la contraseña a None y un mensaje de bloqueo\n",
    "\n",
    "vez = 0 # 0,1,2\n",
    "password = \"python\"\n",
    "\n",
    "while vez <3:\n",
    "    leida = input(\"introduzca una contraseña: \")\n",
    "    print(\"contraseña leída -->\", leida, \"vez -->\", vez)\n",
    "    if leida == password:\n",
    "        print(\"todo OK\")\n",
    "        break\n",
    "    else:\n",
    "        vez = vez + 1 # vez += 1\n",
    "        \n",
    "if vez == 3:\n",
    "    password = None\n",
    "    print(\"contraseña bloqueada\")\n",
    "    \n",
    "print(\"adiós, gracias\")\n",
    "    "
   ]
  },
  {
   "cell_type": "code",
   "execution_count": 11,
   "metadata": {},
   "outputs": [
    {
     "name": "stdout",
     "output_type": "stream",
     "text": [
      "8 rojo\n"
     ]
    }
   ],
   "source": [
    "numero = 7\n",
    "if numero < 10 and numero > 3:\n",
    "    color = \"rojo\"\n",
    "    numero = numero +1\n",
    "print(numero, color)"
   ]
  },
  {
   "cell_type": "code",
   "execution_count": 19,
   "metadata": {},
   "outputs": [
    {
     "name": "stdout",
     "output_type": "stream",
     "text": [
      "numero_interior 3\n",
      "numero_interior 3\n",
      "numero_interior 3\n",
      "83\n",
      "OK\n",
      "casa tiene 4 letras\n"
     ]
    }
   ],
   "source": [
    "def suma_3(n1,n2):\n",
    "    \n",
    "            \n",
    "    if n1 > 10:\n",
    "        numero_interior = 3\n",
    "        print(\"numero_interior\", numero_interior)\n",
    "        otro_numero = numero_interior * 10\n",
    "        return n1 + n2 + otro_numero\n",
    "    \n",
    "    elif n1 < 5:\n",
    "        return \"OK\"\n",
    "    \n",
    "    else:\n",
    "        leida = input(\"pon una palabra\")\n",
    "        return f'{leida} tiene {len(leida)} letras'\n",
    "\n",
    "\n",
    "resultado = suma_3(50,3)\n",
    "resultado2 = suma_3(2,30)\n",
    "resultado3 = suma_3(5,300)\n",
    "\n",
    "print(resultado)\n",
    "print(resultado2)\n",
    "print(resultado3)\n",
    "\n",
    "#print(numero_interior)\n",
    "    "
   ]
  },
  {
   "cell_type": "code",
   "execution_count": 20,
   "metadata": {},
   "outputs": [
    {
     "data": {
      "text/plain": [
       "16"
      ]
     },
     "execution_count": 20,
     "metadata": {},
     "output_type": "execute_result"
    }
   ],
   "source": [
    "lista_numeros = [4,6,7,5,6,3,2,2,4,6,8,9,0,2,4,5]\n",
    "len(lista_numeros)"
   ]
  },
  {
   "cell_type": "code",
   "execution_count": 22,
   "metadata": {},
   "outputs": [
    {
     "data": {
      "text/plain": [
       "16"
      ]
     },
     "execution_count": 22,
     "metadata": {},
     "output_type": "execute_result"
    }
   ],
   "source": [
    "len(\"qwertyuioplkjhgf\")"
   ]
  },
  {
   "cell_type": "code",
   "execution_count": 23,
   "metadata": {},
   "outputs": [],
   "source": [
    "lista_letras = \"q w e r t y u i o p l k j h g f\".split(\" \")"
   ]
  },
  {
   "cell_type": "code",
   "execution_count": 24,
   "metadata": {},
   "outputs": [
    {
     "data": {
      "text/plain": [
       "16"
      ]
     },
     "execution_count": 24,
     "metadata": {},
     "output_type": "execute_result"
    }
   ],
   "source": [
    "len(lista_letras)"
   ]
  },
  {
   "cell_type": "code",
   "execution_count": 25,
   "metadata": {},
   "outputs": [
    {
     "data": {
      "text/plain": [
       "<enumerate at 0x22f27cc3bf0>"
      ]
     },
     "execution_count": 25,
     "metadata": {},
     "output_type": "execute_result"
    }
   ],
   "source": [
    "enumerate(lista_numeros)  # (0,4) (1,6) (2,)"
   ]
  },
  {
   "cell_type": "code",
   "execution_count": 27,
   "metadata": {},
   "outputs": [
    {
     "name": "stdout",
     "output_type": "stream",
     "text": [
      "h\n",
      "o\n",
      "l\n",
      "a\n"
     ]
    }
   ],
   "source": [
    "for letra in \"hola\": # \"h\", \"o\"\n",
    "    print(letra)"
   ]
  },
  {
   "cell_type": "code",
   "execution_count": 28,
   "metadata": {},
   "outputs": [
    {
     "name": "stdout",
     "output_type": "stream",
     "text": [
      "True\n",
      "False\n",
      "7\n",
      "8.2\n",
      "None\n",
      "{'nombre': 'Alberto'}\n"
     ]
    }
   ],
   "source": [
    "for x in [True, False, 7, 8.2, None, {\"nombre\": \"Alberto\"}]:\n",
    "    print(x)"
   ]
  },
  {
   "cell_type": "code",
   "execution_count": 36,
   "metadata": {},
   "outputs": [
    {
     "name": "stdout",
     "output_type": "stream",
     "text": [
      "(0, True)\n",
      "(1, False)\n",
      "(2, 7)\n",
      "(3, 8.2)\n",
      "(4, None)\n",
      "(5, {'nombre': 'Alberto'})\n"
     ]
    }
   ],
   "source": [
    "lista_fea = [True, False, 7, 8.2, None, {\"nombre\": \"Alberto\"}]\n",
    "for x in enumerate(lista_fea):\n",
    "    print(x)"
   ]
  },
  {
   "cell_type": "code",
   "execution_count": 42,
   "metadata": {},
   "outputs": [
    {
     "name": "stdout",
     "output_type": "stream",
     "text": [
      "(0, True)\n",
      "(1, False)\n",
      "(2, 7)\n",
      "(3, 8.2)\n",
      "(3, 8.2)\n"
     ]
    }
   ],
   "source": [
    "lista_fea = [True, False, 7, 8.2, None, {\"nombre\": \"Alberto\"}]\n",
    "for x in enumerate(lista_fea):\n",
    "    print(x)\n",
    "    if type(x[1]) == float:\n",
    "        break\n",
    "    \n",
    "    \n",
    "print(x)"
   ]
  },
  {
   "cell_type": "code",
   "execution_count": 46,
   "metadata": {},
   "outputs": [
    {
     "name": "stdout",
     "output_type": "stream",
     "text": [
      "4\n",
      "6\n",
      "6\n",
      "2\n",
      "2\n",
      "4\n",
      "6\n",
      "8\n",
      "0\n",
      "2\n",
      "4\n"
     ]
    }
   ],
   "source": [
    "for numero in lista_numeros:\n",
    "    if numero %2 == 0:\n",
    "        print(numero)"
   ]
  },
  {
   "cell_type": "code",
   "execution_count": 66,
   "metadata": {},
   "outputs": [
    {
     "name": "stdout",
     "output_type": "stream",
     "text": [
      "[4, 6, 7, 5, 6, 3, 2, 2, 4, 6, 8, 9, 0, 2, 4, 5]\n"
     ]
    }
   ],
   "source": [
    "print(lista_numeros) # una lista con enteros, tengo 16"
   ]
  },
  {
   "cell_type": "code",
   "execution_count": 67,
   "metadata": {},
   "outputs": [
    {
     "name": "stdout",
     "output_type": "stream",
     "text": [
      "['q', 'w', 'e', 'r', 't', 'y', 'u', 'i', 'o', 'p', 'l', 'k', 'j', 'h', 'g', 'f']\n"
     ]
    }
   ],
   "source": [
    "print(lista_letras) # una lista con enteros, tengo 16"
   ]
  },
  {
   "cell_type": "code",
   "execution_count": 74,
   "metadata": {},
   "outputs": [
    {
     "name": "stdout",
     "output_type": "stream",
     "text": [
      "[0]\n",
      "indice 0\n",
      "[0, 1]\n",
      "indice 1\n",
      "[0, 1, 4]\n",
      "indice 4\n",
      "[0, 1, 4, 6]\n",
      "indice 6\n",
      "[0, 1, 4, 6, 7]\n",
      "indice 7\n",
      "[0, 1, 4, 6, 7, 8]\n",
      "indice 8\n",
      "[0, 1, 4, 6, 7, 8, 9]\n",
      "indice 9\n",
      "[0, 1, 4, 6, 7, 8, 9, 10]\n",
      "indice 10\n",
      "[0, 1, 4, 6, 7, 8, 9, 10, 12]\n",
      "indice 12\n",
      "[0, 1, 4, 6, 7, 8, 9, 10, 12, 13]\n",
      "indice 13\n",
      "[0, 1, 4, 6, 7, 8, 9, 10, 12, 13, 14]\n",
      "indice 14\n",
      "[0, 1, 4, 6, 7, 8, 9, 10, 12, 13, 14]\n"
     ]
    }
   ],
   "source": [
    "posiciones_de_pares = []\n",
    "\n",
    "for indice in range(len(lista_numeros)):\n",
    "    \n",
    "    if lista_numeros[indice] %2 == 0:\n",
    "        \n",
    "        posiciones_de_pares.append(indice)\n",
    "        print(posiciones_de_pares)\n",
    "        #print(\"número\", lista_numeros[indice], \"letra asociada\", lista_letras[indice], \"indice\", indice)\n",
    "        print(\"indice\", indice)\n",
    "        \n",
    "print(posiciones_de_pares)\n",
    "        "
   ]
  },
  {
   "cell_type": "code",
   "execution_count": 77,
   "metadata": {},
   "outputs": [
    {
     "name": "stdout",
     "output_type": "stream",
     "text": [
      "[7]\n",
      "0\n",
      "ALBERTO\n",
      "Alberto\n"
     ]
    }
   ],
   "source": [
    "mi_lista = []\n",
    "valor_retornado = mi_lista.append(7) # None\n",
    "print(mi_lista)\n",
    "\n",
    "print(mi_lista.count(\"hola\"))\n",
    "\n",
    "nombre = \"Alberto\"\n",
    "mayusculas = nombre.upper()\n",
    "print(mayusculas)\n",
    "print(nombre)\n"
   ]
  },
  {
   "cell_type": "code",
   "execution_count": 47,
   "metadata": {},
   "outputs": [
    {
     "name": "stdout",
     "output_type": "stream",
     "text": [
      "0 4\n",
      "1 6\n",
      "4 6\n",
      "6 2\n",
      "7 2\n",
      "8 4\n",
      "9 6\n",
      "10 8\n",
      "12 0\n",
      "13 2\n",
      "14 4\n"
     ]
    }
   ],
   "source": [
    "indice_enteros = 4\n",
    "\n",
    "# range(len(x))\n",
    "for mi_indice in range(len(lista_numeros)): # 0,1,2,...15\n",
    "    if lista_numeros[mi_indice] %2 == 0:\n",
    "        print(mi_indice, lista_numeros[mi_indice])"
   ]
  },
  {
   "cell_type": "code",
   "execution_count": 48,
   "metadata": {},
   "outputs": [
    {
     "name": "stdout",
     "output_type": "stream",
     "text": [
      "0 4\n",
      "1 6\n",
      "4 6\n",
      "6 2\n",
      "7 2\n",
      "8 4\n",
      "9 6\n",
      "10 8\n",
      "12 0\n",
      "13 2\n",
      "14 4\n"
     ]
    }
   ],
   "source": [
    "# enumerate\n",
    "for mi_indice, valor in enumerate(lista_numeros): # 0,1,2,...15\n",
    "    if valor %2 == 0:\n",
    "        print(mi_indice, valor)"
   ]
  },
  {
   "cell_type": "code",
   "execution_count": 50,
   "metadata": {},
   "outputs": [
    {
     "data": {
      "text/plain": [
       "['q',\n",
       " 'w',\n",
       " 'e',\n",
       " 'r',\n",
       " 't',\n",
       " 'y',\n",
       " 'u',\n",
       " 'i',\n",
       " 'o',\n",
       " 'p',\n",
       " 'l',\n",
       " 'k',\n",
       " 'j',\n",
       " 'h',\n",
       " 'g',\n",
       " 'f']"
      ]
     },
     "execution_count": 50,
     "metadata": {},
     "output_type": "execute_result"
    }
   ],
   "source": [
    "lista_letras # lista_numeros"
   ]
  },
  {
   "cell_type": "code",
   "execution_count": 52,
   "metadata": {},
   "outputs": [
    {
     "name": "stdout",
     "output_type": "stream",
     "text": [
      "nombre\n",
      "Alberto\n",
      "rol\n",
      "profesor\n",
      "color_favorito\n",
      "rojo\n"
     ]
    }
   ],
   "source": [
    "mi_diccionario = {'nombre': 'Alberto',\n",
    " 'rol': 'profesor',\n",
    " 'color_favorito': 'rojo'}\n",
    "\n",
    "for x in mi_diccionario:\n",
    "    print(x)\n",
    "    print(mi_diccionario[x])"
   ]
  },
  {
   "cell_type": "code",
   "execution_count": 53,
   "metadata": {},
   "outputs": [
    {
     "name": "stdout",
     "output_type": "stream",
     "text": [
      "Alberto\n",
      "profesor\n",
      "rojo\n"
     ]
    }
   ],
   "source": [
    "mi_diccionario = {'nombre': 'Alberto',\n",
    " 'rol': 'profesor',\n",
    " 'color_favorito': 'rojo'}\n",
    "\n",
    "for x in mi_diccionario.values():\n",
    "    print(x)\n",
    "    #print(mi_diccionario[x])"
   ]
  },
  {
   "cell_type": "code",
   "execution_count": 54,
   "metadata": {},
   "outputs": [
    {
     "name": "stdout",
     "output_type": "stream",
     "text": [
      "nombre\n",
      "rol\n",
      "color_favorito\n"
     ]
    }
   ],
   "source": [
    "mi_diccionario = {'nombre': 'Alberto',\n",
    " 'rol': 'profesor',\n",
    " 'color_favorito': 'rojo'}\n",
    "\n",
    "for x in mi_diccionario.keys():\n",
    "    print(x)\n",
    "    #print(mi_diccionario[x])"
   ]
  },
  {
   "cell_type": "code",
   "execution_count": 59,
   "metadata": {},
   "outputs": [
    {
     "name": "stdout",
     "output_type": "stream",
     "text": [
      "7\n",
      "nombre --> Alberto\n",
      "rol --> profesor\n",
      "color_favorito --> rojo\n",
      "color_favorito\n"
     ]
    }
   ],
   "source": [
    "mi_diccionario = {'nombre': 'Alberto',\n",
    " 'rol': 'profesor',\n",
    " 'color_favorito': 'rojo'}\n",
    "\n",
    "x = 7\n",
    "\n",
    "print(x)\n",
    "\n",
    "for (clave, valor) in mi_diccionario.items():  # \n",
    "    print(clave, \"-->\", valor)\n",
    "    print(mi_diccionario[clave])\n",
    "    \n",
    "print(x)"
   ]
  },
  {
   "cell_type": "code",
   "execution_count": 35,
   "metadata": {},
   "outputs": [
    {
     "name": "stdout",
     "output_type": "stream",
     "text": [
      "x --> (0, 'q')\n",
      "<class 'tuple'>\n",
      "x[0] --> 0 x[1]--> q\n",
      "x --> (1, 'w')\n",
      "<class 'tuple'>\n",
      "x[0] --> 1 x[1]--> w\n",
      "x --> (2, 'e')\n",
      "<class 'tuple'>\n",
      "x[0] --> 2 x[1]--> e\n",
      "x --> (3, 'r')\n",
      "<class 'tuple'>\n",
      "x[0] --> 3 x[1]--> r\n",
      "x --> (4, 't')\n",
      "<class 'tuple'>\n",
      "x[0] --> 4 x[1]--> t\n",
      "x --> (5, 'y')\n",
      "<class 'tuple'>\n",
      "x[0] --> 5 x[1]--> y\n",
      "x --> (6, 'u')\n",
      "<class 'tuple'>\n",
      "x[0] --> 6 x[1]--> u\n",
      "x --> (7, 'i')\n",
      "<class 'tuple'>\n",
      "x[0] --> 7 x[1]--> i\n",
      "x --> (8, 'o')\n",
      "<class 'tuple'>\n",
      "x[0] --> 8 x[1]--> o\n",
      "x --> (9, 'p')\n",
      "<class 'tuple'>\n",
      "x[0] --> 9 x[1]--> p\n",
      "x --> (10, 'l')\n",
      "<class 'tuple'>\n",
      "x[0] --> 10 x[1]--> l\n",
      "x --> (11, 'k')\n",
      "<class 'tuple'>\n",
      "x[0] --> 11 x[1]--> k\n",
      "x --> (12, 'j')\n",
      "<class 'tuple'>\n",
      "x[0] --> 12 x[1]--> j\n",
      "x --> (13, 'h')\n",
      "<class 'tuple'>\n",
      "x[0] --> 13 x[1]--> h\n",
      "x --> (14, 'g')\n",
      "<class 'tuple'>\n",
      "x[0] --> 14 x[1]--> g\n",
      "x --> (15, 'f')\n",
      "<class 'tuple'>\n",
      "x[0] --> 15 x[1]--> f\n"
     ]
    }
   ],
   "source": [
    "for x in enumerate(lista_letras):\n",
    "    print(\"x -->\", x)\n",
    "    print(type(x))\n",
    "    print(\"x[0] -->\", x[0], \"x[1]-->\", x[1])\n",
    "    \n",
    "    "
   ]
  },
  {
   "cell_type": "code",
   "execution_count": 39,
   "metadata": {},
   "outputs": [
    {
     "name": "stdout",
     "output_type": "stream",
     "text": [
      "0 6\n",
      "1 7\n",
      "2 8\n",
      "3 9\n",
      "4 10\n",
      "5 11\n",
      "6 12\n",
      "7 13\n",
      "8 14\n",
      "8 14\n"
     ]
    }
   ],
   "source": [
    "for (indice, valor) in enumerate(range(6,15)): # (0,6)  (1,7)   (a, b) = (8,9)\n",
    "    print(indice, valor)\n",
    "    \n",
    "    \n",
    "print(indice, valor)\n",
    "    "
   ]
  },
  {
   "cell_type": "code",
   "execution_count": 13,
   "metadata": {},
   "outputs": [
    {
     "name": "stdout",
     "output_type": "stream",
     "text": [
      "3\n"
     ]
    }
   ],
   "source": [
    "n = 3\n",
    "print(n)"
   ]
  },
  {
   "cell_type": "code",
   "execution_count": 17,
   "metadata": {},
   "outputs": [
    {
     "name": "stdout",
     "output_type": "stream",
     "text": [
      "2\n",
      "4\n",
      "6\n",
      "8\n"
     ]
    }
   ],
   "source": [
    "for n in range(2,10,2):\n",
    "    print(n)"
   ]
  },
  {
   "cell_type": "code",
   "execution_count": 8,
   "metadata": {},
   "outputs": [
    {
     "name": "stdout",
     "output_type": "stream",
     "text": [
      "hola\n"
     ]
    }
   ],
   "source": [
    "condicion = True\n",
    "while(condicion):\n",
    "    print(\"hola\")\n",
    "    condicion = False"
   ]
  }
 ],
 "metadata": {
  "kernelspec": {
   "display_name": "Python 3",
   "language": "python",
   "name": "python3"
  },
  "language_info": {
   "codemirror_mode": {
    "name": "ipython",
    "version": 3
   },
   "file_extension": ".py",
   "mimetype": "text/x-python",
   "name": "python",
   "nbconvert_exporter": "python",
   "pygments_lexer": "ipython3",
   "version": "3.12.3"
  }
 },
 "nbformat": 4,
 "nbformat_minor": 2
}
