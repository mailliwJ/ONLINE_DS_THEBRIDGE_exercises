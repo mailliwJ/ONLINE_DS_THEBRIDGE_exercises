{
  "cells": [
    {
      "cell_type": "markdown",
      "id": "cloudy-airline",
      "metadata": {
        "id": "cloudy-airline"
      },
      "source": [
        "![image.png](attachment:image.png)"
      ]
    },
    {
      "cell_type": "markdown",
      "id": "computational-federation",
      "metadata": {
        "id": "computational-federation"
      },
      "source": [
        "# Práctica Extra Sprint 3: Algebra y Numpy\n",
        "\n",
        "* Tanto si quieres ampliar tu destreza con Numpy como si necesitas recuperar el sprint, aquí tienes dos ejercicios que te permitirán conseguirlo.\n",
        "* Descargalo en tu ordenador, hazlo en él y súbelo a tu repo personal si quieres o necesitas que cuente.\n"
      ]
    },
    {
      "cell_type": "markdown",
      "id": "ef918613",
      "metadata": {
        "id": "ef918613"
      },
      "source": [
        "## PARTE I"
      ]
    },
    {
      "cell_type": "markdown",
      "id": "30329dc2",
      "metadata": {
        "id": "30329dc2"
      },
      "source": [
        "\n",
        "<img src='https://i0.wp.com/contraste.info/desarrollo/wp-content/uploads/2015/04/Marsattacks_FichaCine_5566706.jpg?fit=260%2C180&ssl=1' width=\"300\">\n",
        "                                                                                                \n",
        "Hemos sido invadidos por los extraterrestres. El Gobierno ha prohibido toda comunicación escrita en castellano. Para poder comunicarnos, debemos generar mensajes de hasta 9 letras, codificados conforme al siguiente diccionario:\n",
        "\n",
        "```Python\n",
        "{'A':8,\n",
        " 'B':7,\n",
        " 'C':5,\n",
        " 'D':13,\n",
        " 'E':9,\n",
        " 'F':16,\n",
        " 'G':18,\n",
        " 'H':22,\n",
        " 'I':4,\n",
        " 'J':23,\n",
        " 'K':11,\n",
        " 'L':3,\n",
        " 'M':21,\n",
        " 'N':1,\n",
        " 'O':6,\n",
        " 'P':15,\n",
        " 'Q':12,\n",
        " 'R':19,\n",
        " 'S':2,\n",
        " 'T':14,\n",
        " 'U':17,\n",
        " 'V':20,\n",
        " 'W':25,\n",
        " 'X':24,\n",
        " 'Y':10,\n",
        " 'Z':26\n",
        "}\n",
        "\n",
        "```\n",
        "\n",
        "Por ejemplo, el mensaje \"MARCIANOS\" lo codificaríamos como \"21 8 19 5 4 8 1 6 2\"\n",
        "\n",
        "Para poder enviar mensajes, debemos introducir los dígitos en una matriz 3x3. En este ejemplo, la matriz sería:\n",
        "\n",
        "$$A=\\begin{bmatrix}21 & 8 & 19 \\\\ 5 & 4 & 8 \\\\ 1 & 6 & 2\\end{bmatrix}$$\n",
        "\n",
        "A continuación, hay que multiplicar por la izquierda esta matriz por otra proporcionada por el Gobierno:\n",
        "\n",
        "$$C=\\begin{bmatrix}2 & 0 & 1 \\\\ 1 & 0 & 1 \\\\ 0 & 1 & 0\\end{bmatrix}$$\n",
        "\n",
        "Por tanto, el mensaje resultante sería:\n",
        "\n",
        "$$Z = CA=\\begin{bmatrix}2 & 0 & 1 \\\\ 1 & 0 & 1 \\\\ 0 & 1 & 0\\end{bmatrix}\\begin{bmatrix}21 & 8 & 19 \\\\ 5 & 4 & 8 \\\\ 1 & 6 & 2\\end{bmatrix}=\\begin{bmatrix}43 & 22 & 40 \\\\ 22 & 14 & 21 \\\\ 5 & 4 & 8\\end{bmatrix}$$\n",
        "\n",
        "El receptor del mensaje deberá decodificarlo multiplicando la matriz $Z$ por la matriz $C^{-1}$ (por la izquierda):\n",
        "\n",
        "$$C^{-1}Z=A$$\n",
        "\n",
        "**SE PIDE:**\n",
        "1. Implementa una función para enviar mensajes de 9 letras codificados\n",
        "> 1.1 Genera los dígitos correspondientes al mensaje a partir del diccionario y guárdalo en una lista  \n",
        "> 1.2 Haz un reshape de la lista para transformarlo en un array de numpy 3x3  \n",
        "> 1.3 Genera la matriz $Z=CA$, que será el output de la función\n",
        "2. Implementa una función para decodificar mensajes de 9 letras\n",
        "> 2.1 Crea un nuevo diccionario, donde se inviertan las claves y los valores del original  \n",
        "> 2.2 Realiza la operación $C^{-1}Z=A$ y convierte la matriz a un vector con el método `flatten()`  \n",
        "> 2.3 Recorre los elementos del vector para generar el mensaje decodificado usando el diccionario creado en 2.1\n",
        "\n",
        "Consejo: Antes de implementar la función, reproduce el ejemplo del enunciado. Cuando te funcione, encapsula tu código en funciones"
      ]
    },
    {
      "cell_type": "code",
      "execution_count": null,
      "id": "pharmaceutical-extreme",
      "metadata": {
        "id": "pharmaceutical-extreme"
      },
      "outputs": [],
      "source": []
    },
    {
      "cell_type": "code",
      "execution_count": null,
      "id": "sixth-fighter",
      "metadata": {
        "id": "sixth-fighter"
      },
      "outputs": [],
      "source": []
    },
    {
      "cell_type": "markdown",
      "id": "personalized-prisoner",
      "metadata": {
        "id": "personalized-prisoner"
      },
      "source": [
        "## Parte II"
      ]
    },
    {
      "cell_type": "markdown",
      "id": "domestic-suicide",
      "metadata": {
        "id": "domestic-suicide"
      },
      "source": [
        "En el álgebra de matrices, existen tres tipos de matrices de especial interés:\n",
        "\n",
        "1. **Matriz diagonal**: Todos los elementos son 0 excepto los de la diagonal\n",
        "    \n",
        "    <img src='./img/diagonal.png' width = 200>\n",
        "\n",
        "2. **Triangular superior**: Todos los elementos por encima de la diagonal son 0\n",
        "    \n",
        "    <img src='./img/upper.png' width = 200>\n",
        "\n",
        "3. **Triangular inferior**: Todos los elementos por debajo de la diagonal son 0\n",
        "    \n",
        "    <img src='./img/lower.png' width = 200>\n",
        "\n",
        "En numpy, las funciones `diag()`, `triu()` y `tril()` permiten hacer transformaciones de una matriz a cualquiera de las 3 anteriores\n",
        "\n",
        "**CASO DE USO**\n",
        "\n",
        "\n",
        "<img src='./img/bets.jpg' width=400>\n",
        "\n",
        "\n",
        "En LaLiga se generan matrices como la siguiente, que indican la probabilidad estimada de cada resultado en un determinado partido:  \n",
        "\n",
        "![SegmentLocal](./img/match_matrix.gif \"segment\")\n",
        "\n",
        "Por ejemplo, la probabilidad estimada de que acaben 1-2 es del 3.37%  \n",
        "La probabilidad de que acaben en empate sería la suma de la diagonal: $(0.0373+0.078+0.0409+0.0095+0.0012+0.0001)=16.7\\%$\n",
        "\n",
        "**SE PIDE**:\n",
        "\n",
        "1. Implementa una función que reciba una matriz cuadrada nxn y devuelva un diccionario con la probabilidad de empate, victoria local y victoria visitante. Asegúrate de que la suma de estas tres probabilidades es próxima a 1.\n",
        "\n",
        "2. Implementa otra función que transforme el diccionario con las probabilidades a un diccionario de cuotas redondeado a 2 decimales (la cuota la calculamos como la inversa de la probabilidad)\n",
        "\n",
        "Prueba con esta matriz\n",
        "$$ P=\\begin{bmatrix}0.0373 & 0.082 & 0.013 & 0.004\\\\ 0.1504 & 0.098 & 0.0337 & 0.0097 \\\\\n",
        "0.121 & 0.194 & 0.04 & 0.0118 \\\\ 0.088 &  0.076 & 0.032 & 0.0091\\end{bmatrix}$$"
      ]
    },
    {
      "cell_type": "code",
      "execution_count": null,
      "id": "competitive-russian",
      "metadata": {
        "id": "competitive-russian"
      },
      "outputs": [],
      "source": []
    },
    {
      "cell_type": "code",
      "execution_count": null,
      "id": "presidential-toddler",
      "metadata": {
        "id": "presidential-toddler"
      },
      "outputs": [],
      "source": []
    }
  ],
  "metadata": {
    "colab": {
      "provenance": []
    },
    "kernelspec": {
      "display_name": "Python 3 (ipykernel)",
      "language": "python",
      "name": "python3"
    },
    "language_info": {
      "codemirror_mode": {
        "name": "ipython",
        "version": 3
      },
      "file_extension": ".py",
      "mimetype": "text/x-python",
      "name": "python",
      "nbconvert_exporter": "python",
      "pygments_lexer": "ipython3",
      "version": "3.9.7"
    }
  },
  "nbformat": 4,
  "nbformat_minor": 5
}
