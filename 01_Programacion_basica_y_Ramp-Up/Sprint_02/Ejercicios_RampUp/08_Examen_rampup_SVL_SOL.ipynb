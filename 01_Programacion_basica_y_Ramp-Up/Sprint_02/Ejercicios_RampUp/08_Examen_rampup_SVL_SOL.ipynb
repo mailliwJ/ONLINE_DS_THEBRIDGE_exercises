{
 "cells": [
  {
   "cell_type": "markdown",
   "metadata": {},
   "source": [
    "# Examen Ramp-Up Sevilla Septiembre 2022"
   ]
  },
  {
   "cell_type": "markdown",
   "metadata": {},
   "source": [
    "**Aviso**: En todos los ejercicios se valorarán las buenas prácticas de programación como una parte importante de la calificación (comentarios, nombres de variables autoexplicativas)."
   ]
  },
  {
   "cell_type": "markdown",
   "metadata": {},
   "source": [
    "## Ejercicio 1: Tipos de Datos (4 puntos)"
   ]
  },
  {
   "cell_type": "markdown",
   "metadata": {},
   "source": [
    "En este ejercicio se va a crear una lista con los siguientes elementos. \n",
    "\n",
    "**IMPORTANTE**: En todos los casos, hacer print del resultado y del tipo.\n",
    "\n",
    "Primero, crearemos las variables que luego añadiremos a la lista. Las variables son las siguientes:\n",
    "\n",
    "1. Crea una variable llamada `edad` de tipo Integer que represente tu edad en años. \n",
    "2. Crea una variable llamada `nombre` de tipo String con tu nombre y otra `apellidos` con tus apellidos\n",
    "3. Concatena tu nombre seguido de un espacio en blanco y la inicial de tu primer apellido a partir de `nombre` y `apellidos`. Guárdala en `nombre_y_apellidos`.\n",
    "4. Crea una variable llamada `altura` con el valor de tu altura en metros de tipo float.\n",
    "5. Crea una variable llamada `tipo_ord` de tipo Boolean True si usas Windows y False si usas Mac.\n",
    "6. Crea una variable llamada `nada` de tipo None cuyo valor sea None.\n",
    "\n",
    "#### Listas\n",
    "8. Crea una variable llamada `lista_series` de tipo List que contenga las 5 series de TV que más te gusten. Cada elemento ha de ser de tipo String.\n",
    "9.  Añade todos estos elementos en una lista llamada `lista_examen` en el orden de aparición **usando métodos de lista**. \n",
    "10. Crea `lista_examen_mod_edad` idéntica a `lista_examen` pero sustituyendo la edad por la edad + 10.\n",
    "11. Elimina un elemento de `lista_examen_mod_edad` y guárdalo en una variable.\n",
    "\n",
    "#### Diccionarios\n",
    "11. Crea una variable llamada `dict_info` con dos keys y dos values. Una key es `ciudad`, teniendo como value la ciudad en la que vives. Otra key es `portal`, teniendo como value el número de tu calle.\n",
    "12. Muestra las claves, valores e items de `dict_info`\n",
    "13. Elimina un item usando su clave.\n",
    "\n",
    "#### Tuplas\n",
    "13. Crea una variable llamada `tupla_ropa` de tipo Tuple con la marca de la prenda superior, inferior y calzado que llevas puesto.\n",
    "14. Accede a los elementos de `tupla_ropa` y muéstralos por pantalla\n",
    "15. Convierte `tupla_ropa` en una lista `lista_ropa` usando la función necesaria para ello.\n"
   ]
  },
  {
   "cell_type": "code",
   "execution_count": 16,
   "metadata": {},
   "outputs": [
    {
     "name": "stdout",
     "output_type": "stream",
     "text": [
      "26 <class 'int'>\n"
     ]
    }
   ],
   "source": [
    "## Primera Parte\n",
    "edad = 26\n",
    "print(edad, type(edad))\n",
    "\n",
    "nombre = \"Alberto\"\n",
    "print(nombre, type(nombre))\n",
    "\n",
    "apellidos = \"Becerra Tomé\"\n",
    "print(apellidos, type(apellidos))\n",
    "\n",
    "# nombre_y_apellidos =\n"
   ]
  },
  {
   "cell_type": "markdown",
   "metadata": {},
   "source": [
    "## Ejercicio 2: Funciones (1.5 puntos)"
   ]
  },
  {
   "cell_type": "markdown",
   "metadata": {},
   "source": [
    "1. Crea una función que, dado un input `x`, devuelva \n",
    "$$\n",
    "y = 4x + 2\n",
    "$$\n",
    "\n",
    "2. Crea una función que, dado un input `x`, devuelva \n",
    "$$\n",
    "y = 3x^2 + 4x + 2\n",
    "$$\n",
    "\n",
    "3. Dado el polinomio\n",
    "\n",
    "$$\n",
    "a_nx^n + a_{n-1}x^{n-1} + ... + a_1x + a_0\n",
    "$$\n",
    "\n",
    "Crea una función que reciba como input `x` y una lista de `[a_0, ..., a_n]` y devuelva el valor del polinomio en `x`.\n",
    "\n",
    "**Nota**: En caso de no poder con una función, hacerlo como se pueda.\n",
    "\n",
    "**Pista**: El primero cumple `n = 1` y los parámetros son `[2, 4]`. El segundo: `n = 2` y los parámetros `[2, 4, 3]`. Con esta información, intenta generalizar."
   ]
  },
  {
   "cell_type": "code",
   "execution_count": 11,
   "metadata": {},
   "outputs": [],
   "source": [
    "# Apartado 1\n",
    "def linear(x):\n",
    "    '''\n",
    "    Función que recibe un float y devuelve su valor evaluado en 4x + 2\n",
    "    '''\n",
    "\n",
    "    out = 4*x + 2\n",
    "    return out\n",
    "\n",
    "# Establecemos un testeo unitario simple. Si las condiciones no se cumplen,\n",
    "# habrá un error y querrá decir que nuestro código no hace lo que queremos.\n",
    "\n",
    "ls_test = [-2, -1, 0, 1, 2]\n",
    "ls_compare = [-6, -2, 2, 6, 10]\n",
    "\n",
    "assert([linear(x) for x in ls_test] == ls_compare)"
   ]
  },
  {
   "cell_type": "code",
   "execution_count": 12,
   "metadata": {},
   "outputs": [],
   "source": [
    "# Apartado 2\n",
    "def quadratic(x):\n",
    "    '''\n",
    "    Función que recibe un float y devuelve su valor evaluado en 3x^2 + 4x + 2\n",
    "    '''\n",
    "\n",
    "    out = 3*x**2 + 4*x + 2\n",
    "    return out\n",
    "\n",
    "# Establecemos un testeo unitario simple. Si las condiciones no se cumplen,\n",
    "# habrá un error y querrá decir que nuestro código no hace lo que queremos.\n",
    "\n",
    "ls_test = [-2, -1, 0, 1, 2]\n",
    "ls_compare = [6, 1, 2, 9, 22]\n",
    "\n",
    "assert([quadratic(x) for x in ls_test] == ls_compare)"
   ]
  },
  {
   "cell_type": "code",
   "execution_count": 13,
   "metadata": {},
   "outputs": [],
   "source": [
    "# Apartado 3\n",
    "def poly(x, ls_params):\n",
    "    '''\n",
    "    Función que recibe un float y una lista de coeficientes [a_0, ..., a_n]\n",
    "    y devuelve su evaluación en el polinomio de grado n con dichos coefs\n",
    "    '''\n",
    "    out = 0\n",
    "    for param in ls_params:\n",
    "        out += param * (x ** ls_params.index(param))\n",
    "    \n",
    "    return out\n",
    "\n",
    "# Establecemos un testeo unitario simple. Si las condiciones no se cumplen,\n",
    "# habrá un error y querrá decir que nuestro código no hace lo que queremos.\n",
    "ls_test = [-2, -1, 0, 1, 2]\n",
    "\n",
    "ls_params_1 = [2, 4]\n",
    "\n",
    "assert([linear(x) for x in ls_test] == [poly(x, ls_params_1) for x in ls_test])\n",
    "\n",
    "ls_params_2 = [2, 4, 3]\n",
    "\n",
    "assert([quadratic(x) for x in ls_test] == [poly(x, ls_params_2) for x in ls_test])\n",
    "\n",
    "    "
   ]
  },
  {
   "cell_type": "markdown",
   "metadata": {},
   "source": [
    "## Ejercicio 3: Git (1 punto)"
   ]
  },
  {
   "cell_type": "markdown",
   "metadata": {},
   "source": [
    "Di si las siguientes afirmaciones son verdaderas o falsas. En caso de ser falsa, justifica tu respuesta.\n",
    "\n",
    "1. Git es un sistema de control de versiones\n",
    "2. Con `git pull` subimos los cambios al remoto\n",
    "3. En clase usamos `HTTP` como protocolo para comunicarnos con el remoto\n",
    "4. El README contiene la información resumida del proyecto\n",
    "5. Para trackear los ficheros hacemos `git commit`"
   ]
  },
  {
   "cell_type": "markdown",
   "metadata": {},
   "source": [
    "1. Git es un sistema de control de versiones. Verdadero\n",
    "2. Con `git pull` subimos los cambios al remoto. Falso, los bajamos del remoto al Working Directory.\n",
    "3. En clase usamos `HTTP` como protocolo para comunicarnos con el remoto. Falso, usamos SSH.\n",
    "4. El README contiene la información resumida del proyecto. Verdadero.\n",
    "5. Para trackear los ficheros hacemos `git commit`. Falso, usamos `git add`."
   ]
  },
  {
   "cell_type": "markdown",
   "metadata": {},
   "source": [
    "## Ejercicio 4: Flujos de Control (1.5 puntos)"
   ]
  },
  {
   "cell_type": "markdown",
   "metadata": {},
   "source": [
    "1. Hacer un programa que permita saber si un año es bisiesto. Para que un año sea bisiesto debe ser divisible por 4 y no debe ser divisible por 100, excepto que también sea divisible por 400.\n",
    "2. Hacer un programa que, dado un número, nos diga si es Real o Entero.\n",
    "3. Declara una variable numérica que será una hora cualquiera del día. Implementa mediante sentencias `if/elif/else` la siguiente casuística:\n",
    "   * Si es entre las 0 y las 8, print \"Durmiendo\"\n",
    "   * Si es entre las 9 y las 18, print \"Trabajando\"\n",
    "   * Si es entre las 19 y las 21, print \"Clase\"\n",
    "   * Si es entre las 22 y las 24, print \"Descanso\"\n",
    "   * En cualquier otro caso, print \"Transporte o error\""
   ]
  },
  {
   "cell_type": "code",
   "execution_count": 4,
   "metadata": {},
   "outputs": [
    {
     "name": "stdout",
     "output_type": "stream",
     "text": [
      "El año 2004 es bisiesto\n",
      "El año 2008 es bisiesto\n",
      "El año 2012 es bisiesto\n",
      "El año 2016 es bisiesto\n",
      "El año 2020 es bisiesto\n",
      "El año 2024 es bisiesto\n",
      "El año 2028 es bisiesto\n",
      "El año 2032 es bisiesto\n",
      "El año 2036 es bisiesto\n",
      "El año 1700 NO es bisiesto\n",
      "El año 1800 NO es bisiesto\n",
      "El año 1900 NO es bisiesto\n",
      "El año 2100 NO es bisiesto\n",
      "El año 2200 NO es bisiesto\n",
      "El año 2005 NO es bisiesto\n",
      "El año 2009 NO es bisiesto\n"
     ]
    }
   ],
   "source": [
    "bisiestos = [2004, 2008, 2012, 2016, 2020, 2024, 2028, 2032, 2036]\n",
    "no_bisiestos = [1700, 1800, 1900, 2100, 2200, 2005, 2009]\n",
    "for year in bisiestos + no_bisiestos:\n",
    "    if (year % 4 == 0)&(year % 100 != 0) | (year % 400 == 0):\n",
    "        print(f\"El año {year} es bisiesto\")\n",
    "    else:\n",
    "        print(f\"El año {year} NO es bisiesto\")"
   ]
  },
  {
   "cell_type": "code",
   "execution_count": 16,
   "metadata": {},
   "outputs": [
    {
     "name": "stdout",
     "output_type": "stream",
     "text": [
      "20.0 es un número real.\n"
     ]
    }
   ],
   "source": [
    "# Ouissam\n",
    "import math\n",
    "num = math.pi\n",
    "\n",
    "if type(num) == int:\n",
    "    print(num, \"es un número entero.\")\n",
    "elif type(num) == float:\n",
    "    print(num, \"es un número real.\")"
   ]
  },
  {
   "cell_type": "code",
   "execution_count": 5,
   "metadata": {},
   "outputs": [
    {
     "name": "stdout",
     "output_type": "stream",
     "text": [
      "Trabajando\n"
     ]
    }
   ],
   "source": [
    "hora = 12\n",
    "\n",
    "if hora >= 0 and hora <= 8:\n",
    "    print(\"Durmiendo\")\n",
    "elif hora >= 9 and hora <= 18:\n",
    "    print(\"Trabajando\")\n",
    "elif hora >= 19 and hora <= 21:\n",
    "    print(\"Clase\")\n",
    "elif hora >= 22 and hora <= 24:\n",
    "    print(\"Descanso\")\n",
    "else:\n",
    "    print(\"Transporte o error\")"
   ]
  },
  {
   "cell_type": "markdown",
   "metadata": {},
   "source": [
    "## Ejercicio 5: Calculadora simple (2 Puntos)"
   ]
  },
  {
   "cell_type": "markdown",
   "metadata": {},
   "source": [
    "Construye un programa que:\n",
    "\n",
    "- Salude al usuario por su nombre\n",
    "- Le pregunte si quiere sumar, restar, multiplicar o dividir\n",
    "- Pida que introduzca 2 números de manera sucesiva\n",
    "- Devuelva el resultado de manera formal con un mensaje apropiado \n",
    "\n",
    "**Ayuda**: No se puede dividir por 0"
   ]
  },
  {
   "cell_type": "code",
   "execution_count": 1,
   "metadata": {},
   "outputs": [
    {
     "name": "stdout",
     "output_type": "stream",
     "text": [
      "Ha activado la CALCULADORA SIMPLE\n",
      "Bienvenido Alberto\n",
      "Primer número: 6.0\n",
      "Operación: +\n",
      "Segundo número: 5.0\n",
      "El resultado de 6.0 + 5.0 es 11.0\n"
     ]
    }
   ],
   "source": [
    "##########################################################################\n",
    "# Este script permite hacer suma, resta, producto y división de 2 números.\n",
    "##########################################################################\n",
    "\n",
    "print(\"Ha activado la CALCULADORA SIMPLE\")\n",
    "\n",
    "user = input(\"Introduzca un nombre de usuario:\")\n",
    "print(\"Bienvenido {}\".format(user.title()))\n",
    "\n",
    "# Primer número con el que se va a operar\n",
    "num1 = float(input(\"Introduzca primer número:\"))\n",
    "print(\"Primer número: {}\".format(num1))\n",
    "\n",
    "# Operación a realizar\n",
    "ops = input(\"Operación: Sumar (+), Restar (-), Mulstiplicar (*), Dividir (/)?\")\n",
    "print(\"Operación: {}\".format(ops))\n",
    "\n",
    "# Segundo número con el que se va a operar\n",
    "num2 = float(input(\"Introduzca segundo número:\"))\n",
    "print(\"Segundo número: {}\".format(num2))\n",
    "\n",
    "# Si intentamos dividir entre 0, damos error personalizado\n",
    "if ops == \"+\":\n",
    "    out = num1 + num2\n",
    "elif ops == \"-\":\n",
    "    out = num1 - num2\n",
    "elif ops == \"*\":\n",
    "    out = num1 * num2\n",
    "elif ops == \"/\":\n",
    "    if num2 != 0:\n",
    "        out = num1 / num2\n",
    "    else:\n",
    "        raise ZeroDivisionError(\"Revisa el dividendo!!\")\n",
    "else:\n",
    "    raise ValueError(\"Define una operación válida\")\n",
    "\n",
    "# Mostramos la salida por pantalla\n",
    "print(f\"El resultado de {num1} {ops} {num2} es {out}\")"
   ]
  },
  {
   "cell_type": "markdown",
   "metadata": {},
   "source": [
    "## Ejercicio 6 (Subir Nota): Text Beautifier"
   ]
  },
  {
   "cell_type": "markdown",
   "metadata": {},
   "source": [
    "Dado el string `\"HeyYy cOmo EstAas\"`:\n",
    "\n",
    "    - Pasa todo a minúsculas con el método adecuado de la clase `str`\n",
    "    - Pon las iniciales de cada palabra en mayúscula\n",
    "    - Convierte el string en una lista de palabras\n",
    "    - Elimina las `y`"
   ]
  },
  {
   "cell_type": "code",
   "execution_count": 24,
   "metadata": {},
   "outputs": [
    {
     "name": "stdout",
     "output_type": "stream",
     "text": [
      "heyyy como estaas\n",
      "Heyyy Como Estaas\n",
      "He Como Estaas\n",
      "['HeyYy', 'cOmo', 'EstAas']\n"
     ]
    }
   ],
   "source": [
    "str_beauty = \"HeyYy cOmo EstAas\"\n",
    "\n",
    "# Pasar todo a minusculas\n",
    "str_beauty_proc = str_beauty.lower()\n",
    "print(str_beauty_proc)\n",
    "\n",
    "# Poner en mayusculas cada inicial de la palabra\n",
    "str_beauty_proc = str_beauty_proc.title()\n",
    "print(str_beauty_proc)\n",
    "\n",
    "# Eliminar las `y` del texto\n",
    "str_beauty_proc = str_beauty_proc.replace(\"y\", \"\")\n",
    "print(str_beauty_proc)\n",
    "\n",
    "# Separar por los espacios\n",
    "print(str_beauty.split(\" \"))"
   ]
  },
  {
   "cell_type": "markdown",
   "metadata": {},
   "source": [
    "## Ejercicio Extra: Calculadora (Python Badge)"
   ]
  },
  {
   "cell_type": "markdown",
   "metadata": {},
   "source": [
    "Construye una calculadora que sea como la anterior pero:\n",
    "\n",
    "- Acepte tantos valores de entrada como queramos\n",
    "- Devuelva mensajes con las cuentas que se van haciendo.\n",
    "- Permita salir con una palabra clave (exit, quit, ...)"
   ]
  },
  {
   "cell_type": "code",
   "execution_count": 25,
   "metadata": {},
   "outputs": [
    {
     "name": "stdout",
     "output_type": "stream",
     "text": [
      "Ha activado la CALCULADORA\n",
      "Bienvenido Alberto\n",
      "Valor: 10.0\n",
      "Operación: /\n",
      "Valor: 10.0\n",
      "====================================================================================================\n",
      "SUBTOTAL: 1.0\n",
      "Operación: +\n",
      "Valor: 5.0\n",
      "====================================================================================================\n",
      "SUBTOTAL: 6.0\n",
      "Operación: -\n",
      "Valor: 2.0\n",
      "====================================================================================================\n",
      "SUBTOTAL: 4.0\n",
      "Operación: *\n",
      "Valor: 2.0\n",
      "====================================================================================================\n",
      "SUBTOTAL: 8.0\n",
      "Operación: +\n",
      "Valor: 2.0\n",
      "====================================================================================================\n",
      "SUBTOTAL: 10.0\n",
      "\n",
      "TOTAL: 10.0\n",
      "\n",
      "\n",
      "\n",
      "CERRANDO CALCULADORA...\n",
      "Hasta pronto Alberto\n"
     ]
    }
   ],
   "source": [
    "##########################################################################\n",
    "# Este script permite hacer suma, resta, producto y división de tantos \n",
    "# números como deseemos.\n",
    "##########################################################################\n",
    "\n",
    "print(\"Ha activado la CALCULADORA\")\n",
    "\n",
    "user = input(\"Introduzca un nombre de usuario:\")\n",
    "print(\"Bienvenido {}\".format(user.title()))\n",
    "\n",
    "# Primer número con el que se va a operar. Inicialización.\n",
    "num1 = float(input(\"Introduzca número:\"))\n",
    "print(\"Valor: {}\".format(num1))\n",
    "\n",
    "while True:\n",
    "    ops = input(\"Operación: Sumar (+), Restar (-), Multiplicar (*), Dividir (/), Quit (q)?\")\n",
    "\n",
    "    # Evitamos problemas de mayus con el .lower\n",
    "    # Si salimos, nos despedimos\n",
    "    if ops.lower() == \"q\":\n",
    "        print(f\"\\nTOTAL: {num1}\")\n",
    "        print('\\n\\n')\n",
    "        print(\"CERRANDO CALCULADORA...\")\n",
    "        print(\"Hasta pronto {}\".format(user))\n",
    "        break\n",
    "    else:\n",
    "        print(\"Operación: {}\".format(ops))\n",
    "\n",
    "    num2 = float(input(\"Introduzca segundo número:\"))\n",
    "    print(\"Valor: {}\".format(num2))\n",
    "\n",
    "    # Si intentamos dividir entre 0, damos error personalizado\n",
    "    if ops == \"+\":\n",
    "        num1 += num2\n",
    "    elif ops == \"-\":\n",
    "        num1 -= num2\n",
    "    elif ops == \"*\":\n",
    "        num1 *= num2\n",
    "    elif ops == \"/\":\n",
    "        if num2 != 0:\n",
    "            num1 = num1 / num2\n",
    "        else:\n",
    "            raise ZeroDivisionError(\"Revisa el dividendo!!\")\n",
    "            break\n",
    "    else:\n",
    "        raise ValueError(\"Define una operación válida\")\n",
    "        break\n",
    "\n",
    "    print(\"=\" * 100)\n",
    "    print(\"SUBTOTAL: {}\".format(num1))\n",
    "\n",
    "\n",
    "\n"
   ]
  }
 ],
 "metadata": {
  "kernelspec": {
   "display_name": "Python 3",
   "language": "python",
   "name": "python3"
  },
  "language_info": {
   "codemirror_mode": {
    "name": "ipython",
    "version": 3
   },
   "file_extension": ".py",
   "mimetype": "text/x-python",
   "name": "python",
   "nbconvert_exporter": "python",
   "pygments_lexer": "ipython3",
   "version": "3.10.8"
  },
  "orig_nbformat": 4,
  "vscode": {
   "interpreter": {
    "hash": "7600a12950a547366bb7a6732117e300ffd26224351912980486e1126c5d0f9a"
   }
  }
 },
 "nbformat": 4,
 "nbformat_minor": 2
}
