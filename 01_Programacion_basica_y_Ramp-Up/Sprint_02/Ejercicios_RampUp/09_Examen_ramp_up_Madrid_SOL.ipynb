{
 "cells": [
  {
   "cell_type": "markdown",
   "id": "1f1401c1-4dc9-4902-95bf-160715a42a25",
   "metadata": {},
   "source": [
    "# Prueba de Ramp-up"
   ]
  },
  {
   "cell_type": "markdown",
   "id": "1b34c670-a6dd-482d-9b04-5babee7be17a",
   "metadata": {},
   "source": [
    "Antes de comenzar, cambia el nombre del archivo notebook poniéndole delante tu nombre y primer apellido:\n",
    "\n",
    "* nombre_apellido_test_pract_\n",
    ".ipynb"
   ]
  },
  {
   "cell_type": "code",
   "execution_count": 3,
   "id": "c8d9a657-272c-425a-9ac4-ea59f479673c",
   "metadata": {},
   "outputs": [],
   "source": [
    "# Escribe tu nombre en la variable:\n",
    "nombre_y_apellidos = \"\" "
   ]
  },
  {
   "cell_type": "code",
   "execution_count": 5,
   "id": "2e9f9af5-076c-44ec-9a80-95c0e99cdc58",
   "metadata": {},
   "outputs": [],
   "source": [
    "\"\"\"\n",
    "Criterios de corrección:\n",
    "\n",
    "ejecución (ausencia de errores y obtención de resultados)\n",
    "estructura del código\n",
    "uso correcto de variables\n",
    "manejo de tipo de variables\n",
    "asignaciones\n",
    "operaciones booleanas\n",
    "manejo lógico de flujos de control y bucles\n",
    "uso de colecciones\n",
    "uso de funciones\n",
    "\"\"\";\n",
    "\n",
    "# Ejemplo de como queremos ver el código para más de un intento:\n",
    "\n",
    "# intento 1\n",
    "#your code\n",
    "\n",
    "# intento 2\n",
    "#your code"
   ]
  },
  {
   "cell_type": "code",
   "execution_count": 6,
   "id": "bb16d0e3-3bb9-4f2b-944e-8fc35e628701",
   "metadata": {},
   "outputs": [],
   "source": [
    "# crea todas las celdas que necesites"
   ]
  },
  {
   "cell_type": "markdown",
   "id": "9e02b8f5-6f66-4e73-acfa-7f8c3977de2a",
   "metadata": {},
   "source": [
    "#### Notas y pruebas de apoyo para contestar las preguntas\n",
    "\n",
    "\n",
    "Cualquier código aunque no esté correcto nos dirá más de ti que no escribir nada. "
   ]
  },
  {
   "cell_type": "markdown",
   "id": "57d6b062-27f8-4377-b583-d662777b0bd7",
   "metadata": {},
   "source": [
    "__Debes subir tus respuestas antes de las 13:00 al enlace que habilitaremos__\n",
    " ***¡guarda todo lo que hagas!***"
   ]
  },
  {
   "cell_type": "markdown",
   "id": "bd4e174d",
   "metadata": {},
   "source": [
    "#### Ejercicio 1\n",
    "\n",
    "Escribe un programa que simule un libro de \"sigue tu propia aventura\".\n",
    "\n",
    "Solo se pide control de flujo y uso de print().\n",
    "El programa tiene dos variables:\n",
    "\n",
    "puerta --> es una variable de tipo entero\n",
    "\n",
    "amuleto --> es una variable booleana\n",
    "\n",
    "Si la puerta que eliges es la 1, imprime \"has perdido\"\n",
    "\n",
    "Si la puerta que eliges es la 2 y tienes el amuleto (verdadero), imprime \"has ganado\"\n",
    "\n",
    "En cualquier otro caso, imprime \"sigue jugando\"\n",
    "\n",
    "Haz este programa de dos formas: usando un AND y sin usar un AND\n",
    "\n",
    "Nota: no son necesarias funciones. Puedes declarar puerta y amuleto al principio de tu programa."
   ]
  },
  {
   "cell_type": "code",
   "execution_count": 15,
   "id": "22cc5bdf",
   "metadata": {},
   "outputs": [
    {
     "name": "stdout",
     "output_type": "stream",
     "text": [
      "sigue jugando\n"
     ]
    }
   ],
   "source": [
    "puerta = 2\n",
    "amuleto = False\n",
    "\n",
    "if puerta == 1:\n",
    "    print(\"has perdido\")\n",
    "elif puerta == 2:\n",
    "    if amuleto:\n",
    "        print(\"has ganado\")\n",
    "    else:\n",
    "        print(\"sigue jugando\")\n",
    "    \n",
    "        "
   ]
  },
  {
   "cell_type": "code",
   "execution_count": 10,
   "id": "aabbdd9a",
   "metadata": {},
   "outputs": [
    {
     "name": "stdout",
     "output_type": "stream",
     "text": [
      "sigue jugando\n"
     ]
    }
   ],
   "source": [
    "puerta = 2\n",
    "amuleto = False\n",
    "\n",
    "if puerta == 1:\n",
    "    print(\"has perdido\")\n",
    "elif puerta == 2 and amuleto:\n",
    "        print(\"has ganado\")\n",
    "else:\n",
    "    print(\"sigue jugando\")"
   ]
  },
  {
   "cell_type": "markdown",
   "id": "11d90e03",
   "metadata": {},
   "source": [
    "#### Ejercicio 2\n",
    "\n",
    "Programa un diccionario vacío que se llame d.\n",
    "Añádele los siguientes claves y valores:\n",
    "\n",
    "\"id\" --> 1, \"hora\" --> \"mañana\", \"canciones_escuchadas\" --> una lista con 2 elementos que son \"canción1\" y \"canción2\"\n",
    "\n",
    "Imprime todas las claves, todos los valores y todos los pares clave-valor\n"
   ]
  },
  {
   "cell_type": "code",
   "execution_count": 9,
   "id": "f7c10c85",
   "metadata": {},
   "outputs": [
    {
     "name": "stdout",
     "output_type": "stream",
     "text": [
      "dict_keys(['id', 'hora', 'canciones_escuchadas'])\n",
      "dict_values([1, 'mañana', ['canción1', 'canción2']])\n",
      "dict_items([('id', 1), ('hora', 'mañana'), ('canciones_escuchadas', ['canción1', 'canción2'])])\n"
     ]
    }
   ],
   "source": [
    "d = {}\n",
    "d['id'] = 1\n",
    "d['hora'] = \"mañana\"\n",
    "d['canciones_escuchadas'] = [\"canción1\", \"canción2\"] \n",
    "\n",
    "print(d.keys())\n",
    "print(d.values())\n",
    "print(d.items())"
   ]
  },
  {
   "cell_type": "markdown",
   "metadata": {},
   "source": [
    "\n",
    "#### Ejercicio 3\n",
    "\n",
    "Crea una **función que reciba por parámetro** una lista de strings. Los strings pueden valer \"rojo\", \"verde\", \"amarillo\".\n",
    "\n",
    "La función debe devolver otra lista de strings, donde si el string original era \"rojo\" la salida debe ser \"stop\", si era \"verde\" la salida debe ser \"avance\" y si era \"amarillo\" debe ser \"precaución\"."
   ]
  },
  {
   "cell_type": "code",
   "execution_count": 1,
   "metadata": {},
   "outputs": [
    {
     "name": "stdout",
     "output_type": "stream",
     "text": [
      "['rojo', 'verde', 'amarillo', 'rojo', 'verde']\n",
      "['stop', 'avance', 'precaución', 'stop', 'avance']\n"
     ]
    }
   ],
   "source": [
    "lista_colores = [\"rojo\", \"verde\", \"amarillo\", \"rojo\", \"verde\"]\n",
    "\n",
    "def semaforo(lista_colores):\n",
    "    resultado = []\n",
    "    for color in lista_colores:\n",
    "        if color == \"rojo\":\n",
    "            resultado.append(\"stop\")\n",
    "        elif color == \"verde\":\n",
    "            resultado.append(\"avance\")\n",
    "        else:\n",
    "            resultado.append(\"precaución\")\n",
    "    return resultado\n",
    "\n",
    "print(lista_colores)\n",
    "print(semaforo(lista_colores=lista_colores))\n"
   ]
  },
  {
   "cell_type": "markdown",
   "id": "460a4229",
   "metadata": {},
   "source": [
    "\n",
    "#### Ejercicio 4\n",
    "\n",
    "Crea un programa que simule un carrusel infantil.\n",
    "\n",
    "El carrusel infantil tiene 3 posibles cochecitos: barco - bomberos - avioneta (una variable global de tipo lista, fuera de tu función).\n",
    "\n",
    "Debes escribir una **FUNCIÓN** llamada carrusel que tenga dos parámetros de entrada: el cochecito que eliges (puede valer el string barco, bomberos o avioneta) y un segundo parámetro llamado vueltas que es un entero.\n",
    "\n",
    "Tu función carrusel NO debe retornar nada, pero debe llamar internamente a coloca(cochecito), ya te lo doy programado. Si sientas al niño en \"avioneta\" y pones 3 vueltas, la función debería imprimir:\n",
    "\n",
    "\"vuelta 1: avioneta - barco - bomberos\"\n",
    "\n",
    "\"vuelta 2: avioneta - barco - bomberos\"\n",
    "\n",
    "\"vuelta 3: avioneta - barco - bomberos\"\n",
    "\n",
    "Se valorará positivamente que haya **UN BUCLE WHILE**.\n",
    "Si no te acaba de funcionar llamando a coloca(cochecito) tras un tiempo prudencial, escribe tu código sin usarlo."
   ]
  },
  {
   "cell_type": "code",
   "execution_count": 5,
   "id": "bcd8eef9",
   "metadata": {},
   "outputs": [
    {
     "name": "stdout",
     "output_type": "stream",
     "text": [
      "vuelta: 1 ['avioneta', 'barco', 'bomberos']\n",
      "vuelta: 2 ['avioneta', 'barco', 'bomberos']\n",
      "vuelta: 3 ['avioneta', 'barco', 'bomberos']\n"
     ]
    }
   ],
   "source": [
    "lista_carrusel = [\"barco\", \"bomberos\", \"avioneta\"]\n",
    "\n",
    "def coloca(cochecito):\n",
    "    if cochecito == \"barco\":\n",
    "        return lista_carrusel\n",
    "    elif cochecito == \"bomberos\" or cochecito == \"avioneta\":\n",
    "        elemento = lista_carrusel.pop(0)\n",
    "        lista_carrusel.append(elemento)\n",
    "    if cochecito == \"avioneta\":\n",
    "        elemento = lista_carrusel.pop(0)\n",
    "        lista_carrusel.append(elemento)\n",
    "    return lista_carrusel\n",
    "\n",
    "def carrusel(cochecito, vueltas):\n",
    "    coloca(cochecito)\n",
    "    contador = 1\n",
    "    while contador <= vueltas:\n",
    "        print(\"vuelta:\", contador, lista_carrusel)\n",
    "        contador += 1\n",
    "\n",
    "carrusel(\"avioneta\", 3)\n",
    "\n",
    "    "
   ]
  },
  {
   "cell_type": "markdown",
   "id": "b387a519",
   "metadata": {},
   "source": [
    "\n",
    "#### Ejercicio 5\n",
    "Crea un programa que pida una contraseña por teclado e indique si es correcta\n",
    "o incorrecta con un print(). La contraseña correcta es “python”. Si la contraseña era incorrecta la pide de nuevo hasta 3 veces como máximo. Si al tercer intento no se acierta, debe ponerse a None y poner en un print() que la cuenta se ha bloqueado. Si se consigue entrar, se muestra que es correcta en un print(). Debe haber como mínimo un **BUCLE WHILE**\n"
   ]
  },
  {
   "cell_type": "code",
   "execution_count": 2,
   "id": "a528b115",
   "metadata": {},
   "outputs": [
    {
     "name": "stdout",
     "output_type": "stream",
     "text": [
      "correcta\n"
     ]
    }
   ],
   "source": [
    "guardada = \"python\"\n",
    "vez = 0\n",
    "\n",
    "contrasena = input(\"Introduzca la contraseña: \")\n",
    "if guardada == contrasena:\n",
    "    print(\"correcta\")\n",
    "else:\n",
    "    vez += 1\n",
    "    while vez <3 and contrasena != guardada: # vez 1, 2\n",
    "        contrasena = input(\"Introduzca la contraseña: \")\n",
    "        if guardada == contrasena:\n",
    "            print(\"correcta\")\n",
    "            break\n",
    "        vez += 1\n",
    "\n",
    "if guardada != contrasena:\n",
    "    guardada = None\n",
    "    print(\"bloqueado\")\n"
   ]
  },
  {
   "cell_type": "markdown",
   "id": "c0cbed17",
   "metadata": {},
   "source": [
    "#### Ejercicio 6\n",
    "Crea una clase Flor que instancia todos los atributos como parámetros del constructor.\n",
    "Atributos:\n",
    "\n",
    "nombre --> string que es el nombre de la flor\n",
    "\n",
    "venenosa --> un booleano que indica si es venenosa\n",
    "\n",
    "lista_viveros --> una lista de strings que son los viveros donde se puede comprar\n",
    "\n",
    "métodos de la clase:\n",
    "\n",
    "cantidad_de_viveros --> sin parámetros de entrada, devuelve un entero que es en cuántos sitios se puede comprar\n",
    "\n",
    "imprime_info --> con un parámetro de entrada que es un string llamado *nombre*, no devuelve ningún valor pero imprime el mensaje \"Hola *nombre*, la flor *flor* es/no es venenosa y se puede comprar en X viveros\"\n",
    "\n",
    "donde *nombre* es el parámetro de entrada, *flor* es el nombre de la flor, es/no es venenosa depende de la flor (tiene que estar ajustado a la flor) y X es el número de viveros donde se puede comprar.\n",
    "El constructor **DEBE** tener valores por defecto.\n",
    "\n",
    "Crea una flor por defecto e imprime su información.\n",
    "Nota: No te preocupes si la sintaxis no es perfecta.\n",
    "Esto es válido:\n",
    "\n",
    "Hola Alberto la flor rosa no es venenosa y se puede comprar en 1 viveros"
   ]
  },
  {
   "cell_type": "code",
   "execution_count": 19,
   "id": "6d8e782a",
   "metadata": {},
   "outputs": [
    {
     "name": "stdout",
     "output_type": "stream",
     "text": [
      "Hola Alberto la flor rosa no es venenosa y se puede comprar en 1 viveros\n"
     ]
    }
   ],
   "source": [
    "class Flor:\n",
    "    def __init__(self, nombre=\"rosa\", venenosa=False, lista_viveros=[\"centro\"]):\n",
    "        self.nombre = nombre\n",
    "        self.venenosa = venenosa\n",
    "        self.lista_viveros = lista_viveros\n",
    "        \n",
    "    def cantidad_viveros(self):\n",
    "        return len(self.lista_viveros)\n",
    "        \n",
    "    def imprime_info(self, nombre):\n",
    "        if not self.venenosa:\n",
    "            print(\"Hola\", nombre, \"la flor\", self.nombre, \"no es venenosa y se puede comprar en\",self.cantidad_viveros(), \"viveros\")\n",
    "        else:\n",
    "            print(\"Hola\", nombre, \"la flor\", self.nombre, \"es venenosa y se puede comprar en\",self.cantidad_viveros(), \"viveros\")\n",
    "            \n",
    "mi_flor = Flor()\n",
    "mi_flor.imprime_info(\"Alberto\")\n",
    "\n"
   ]
  },
  {
   "cell_type": "markdown",
   "id": "abbb2218",
   "metadata": {},
   "source": [
    "#### Ejercicio 7\n",
    "\n",
    "Usando el map de programación funcional y la buit-in function reversed (como mínimo):\n",
    "\n",
    "Escribe un programa que recibe una lista de strings y devuelve una tupla con cada string dado la vuelta. **NO SE PUEDEN USAR BUCLES**\n",
    "\n",
    "Ejemplo:\n",
    "\n",
    "[\"hola\", \"adiós\"] --> (\"aloh\", \"sóida\")\n",
    "\n",
    "Pista: si yo fuera tú, usaría un método de los string que sirve para unir, ¡y usaría más de un map!"
   ]
  },
  {
   "cell_type": "code",
   "execution_count": 43,
   "id": "1eacf961",
   "metadata": {},
   "outputs": [
    {
     "data": {
      "text/plain": [
       "('aloh', 'sóida')"
      ]
     },
     "execution_count": 43,
     "metadata": {},
     "output_type": "execute_result"
    }
   ],
   "source": [
    "mi_lista = [\"hola\", \"adiós\"]\n",
    "lista_reversed = list(map(reversed,mi_lista))\n",
    "lista_str = list(map(list,lista_reversed))\n",
    "tuple(map(\"\".join, lista_str))\n"
   ]
  },
  {
   "cell_type": "markdown",
   "id": "c481d9aa",
   "metadata": {},
   "source": [
    "#### Ejercicio 8 (EXTRA - no puntúa, puedes hacer hasta donde llegues)\n",
    "\n",
    "Escribe un programa que trabaje con 3 listas:\n",
    "\n",
    "La lista ***grupo_musical*** contiene strings.\n",
    "\n",
    "La lista ***generos*** contiene strings.\n",
    "\n",
    "La lista ***anios*** puede contener un entero o tuplas.\n",
    "\n",
    "Ejemplo de datos:\n",
    "\n",
    ">\"ABBA\"\n",
    ">\n",
    ">\"pop\"\n",
    ">\n",
    ">(1972, 1982)\n",
    "\n",
    "Otro ejemplo:\n",
    "\n",
    ">\"Madonna\"\n",
    ">\n",
    ">\"pop\"\n",
    ">\n",
    ">1983\n",
    "\n",
    "Otro ejemplo:\n",
    "\n",
    ">\"Kölsch\"\n",
    ">\n",
    ">\"electronica\"\n",
    ">\n",
    ">1995\n",
    "\n",
    "Un grupo musical solo puede tener un género musical.\n",
    "Un grupo musical debe tener como mínimo un año de formación, que es un entero.\n",
    "Un grupo musical, si tuviese año de disolución, la información se guardaría en una tupla.\n",
    "\n",
    "Se pide implementar:\n",
    "\n",
    "a. Una función llamada *inserta* que acepte 4 parámetros (grupo, genero, comienzo, fin). El fin por defecto debe ser un objeto nulo. El grupo se inserta en la lista de grupos. El genero se inserta en la lista de géneros. El comienzo o comienzo y fin se inserta en la lista de años. La función no tiene valor retornado.\n",
    "\n",
    "b. Una función *busca_genero* con un parámetro de tipo string (genero) y devuelve una lista con todos los grupos de ese género.\n",
    "\n",
    "c. Una función *busca_grupos* con un parámetro booleano llamado *activos* con un valor por defecto verdadero. Cuando el valor es verdadero, devuelve solo los grupos activos en una lista. Cuando *activos* es falso, devuelve todos los grupos disueltos en una lista.\n",
    "\n",
    "d. Una función *busca_genero_indice* con un parámetro de tipo string (genero) que devuelve una lista con los índices donde se encuentra ese género.\n",
    "\n",
    "e. Una función *filtra_listas_genero* con un parámetro de tipo string (genero) que devuelve una tupla con las 3 listas filtradas y ***llame*** a busca_genero_indice\n",
    "\n",
    "f. Una función *anios_activos* que no tenga parámetros de entrada ni valor retornado que imprima línea a línea la información: grupo musical ---> años activos. Es decir: \n",
    "\n",
    ">ABBA ---> 10 años activos\n",
    ">\n",
    ">Madonna --> 40 años activos\n",
    ">\n",
    ">Kölsch --> 25 años activos\n",
    "\n",
    "\n",
    "Nota: si no te sale un apartado después de un tiempo prudencial, ¡pasa al siguiente!"
   ]
  },
  {
   "cell_type": "code",
   "execution_count": 44,
   "id": "94cb255c",
   "metadata": {},
   "outputs": [
    {
     "name": "stdout",
     "output_type": "stream",
     "text": [
      "pop ['ABBA', 'Madonna']\n",
      "electronica ['Kölsch']\n",
      "activos ['Madonna', 'Kölsch']\n",
      "disueltos ['ABBA']\n",
      "indices pop [0, 1]\n",
      "indices electronica [2]\n",
      "pop ['ABBA', 'Madonna']\n",
      "pop ['pop', 'pop']\n",
      "pop [(1972, 1982), 1983]\n",
      "ABBA --> 10 años totales\n",
      "Madonna --> 40 años totales\n",
      "Kölsch --> 28 años totales\n"
     ]
    }
   ],
   "source": [
    "# Solución\n",
    "\n",
    "grupo_musical = []\n",
    "generos = []\n",
    "anios = []\n",
    "\n",
    "# a\n",
    "\n",
    "def inserta(grupo, genero, comienzo, fin=None):\n",
    "    grupo_musical.append(grupo)\n",
    "    generos.append(genero)\n",
    "    if fin is None:\n",
    "        anios.append(comienzo)\n",
    "    else:\n",
    "        anios.append((comienzo,fin))\n",
    "        \n",
    "        \n",
    "# b\n",
    "def busca_genero(genero):\n",
    "    grupos = []\n",
    "    slicing = generos\n",
    "    largo = 0\n",
    "    try:\n",
    "        while True:\n",
    "            indice = slicing.index(genero)\n",
    "            grupos.append(grupo_musical[indice+largo])\n",
    "            indice += 1\n",
    "            largo = indice\n",
    "            slicing = slicing[indice:]\n",
    "            \n",
    "    except:\n",
    "        return grupos\n",
    "    \n",
    "#c\n",
    "def busca_grupos(activos=True):\n",
    "    grupos_activos = []\n",
    "    for indice, anio in enumerate(anios):\n",
    "        if type(anio) == int and activos:\n",
    "            grupos_activos.append(grupo_musical[indice])\n",
    "        elif type(anio) == tuple and not activos:\n",
    "            grupos_activos.append(grupo_musical[indice])\n",
    "    return grupos_activos\n",
    "\n",
    "#d\n",
    "def busca_genero_indice(genero):\n",
    "    mi_lista = []\n",
    "    for indice in range(len(generos)):\n",
    "        if generos[indice] == genero:\n",
    "            mi_lista.append(indice)\n",
    "    return mi_lista\n",
    "\n",
    "#e\n",
    "def filtra_listas_genero(genero):\n",
    "    indices = busca_genero_indice(genero)\n",
    "    l1 = []\n",
    "    l2 = []\n",
    "    l3 = []\n",
    "    \n",
    "    for i in indices:\n",
    "        l1.append(grupo_musical[i])\n",
    "        l2.append(generos[i])\n",
    "        l3.append(anios[i])\n",
    "    return l1,l2,l3\n",
    "            \n",
    "#f\n",
    "def anios_activos():\n",
    "    for indice, nombre in enumerate(grupo_musical):\n",
    "        if type(anios[indice]) == tuple:\n",
    "            anios_totales = anios[indice][1] - anios[indice][0]\n",
    "        else:\n",
    "            anios_totales = 2023 - anios[indice]\n",
    "        print(nombre,\"-->\",anios_totales, \"años totales\")\n",
    "        \n",
    "# comprobamos\n",
    "\n",
    "inserta(\"ABBA\", \"pop\",1972,1982)\n",
    "inserta(\"Madonna\",\"pop\",1983)\n",
    "inserta(\"Kölsch\",\"electronica\",1995)\n",
    "\n",
    "print(\"pop\", busca_genero(\"pop\"))\n",
    "print(\"electronica\", busca_genero(\"electronica\"))\n",
    "\n",
    "print(\"activos\", busca_grupos())\n",
    "print(\"disueltos\", busca_grupos(False))\n",
    "\n",
    "print(\"indices pop\", busca_genero_indice(\"pop\"))\n",
    "print(\"indices electronica\", busca_genero_indice(\"electronica\"))\n",
    "\n",
    "l1,l2,l3 = filtra_listas_genero(\"pop\")\n",
    "print(\"pop\", l1)\n",
    "print(\"pop\", l2)\n",
    "print(\"pop\", l3)\n",
    "\n",
    "anios_activos()\n",
    "\n",
    "\n",
    "        "
   ]
  },
  {
   "cell_type": "code",
   "execution_count": 1,
   "id": "10a7b881",
   "metadata": {},
   "outputs": [],
   "source": [
    "# FIN DEL RAMP-UP\n"
   ]
  }
 ],
 "metadata": {
  "kernelspec": {
   "display_name": "Python 3 (ipykernel)",
   "language": "python",
   "name": "python3"
  },
  "language_info": {
   "codemirror_mode": {
    "name": "ipython",
    "version": 3
   },
   "file_extension": ".py",
   "mimetype": "text/x-python",
   "name": "python",
   "nbconvert_exporter": "python",
   "pygments_lexer": "ipython3",
   "version": "3.11.3"
  },
  "vscode": {
   "interpreter": {
    "hash": "252189e587d1e2aeba4a06e91fa71896c7a7f6e22e918b9407c7cde4ef2d5985"
   }
  }
 },
 "nbformat": 4,
 "nbformat_minor": 5
}
