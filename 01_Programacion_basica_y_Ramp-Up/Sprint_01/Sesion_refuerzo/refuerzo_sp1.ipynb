{
 "cells": [
  {
   "cell_type": "code",
   "execution_count": 1,
   "metadata": {},
   "outputs": [
    {
     "data": {
      "text/plain": [
       "5"
      ]
     },
     "execution_count": 1,
     "metadata": {},
     "output_type": "execute_result"
    }
   ],
   "source": [
    "2 + 3"
   ]
  },
  {
   "cell_type": "markdown",
   "metadata": {},
   "source": [
    "# Hola"
   ]
  },
  {
   "cell_type": "code",
   "execution_count": 2,
   "metadata": {},
   "outputs": [
    {
     "data": {
      "text/plain": [
       "True"
      ]
     },
     "execution_count": 2,
     "metadata": {},
     "output_type": "execute_result"
    }
   ],
   "source": [
    "3 in [5,6,4,3] "
   ]
  },
  {
   "cell_type": "code",
   "execution_count": 3,
   "metadata": {},
   "outputs": [
    {
     "name": "stdout",
     "output_type": "stream",
     "text": [
      "6\n",
      "8\n",
      "9\n"
     ]
    }
   ],
   "source": [
    "for x in [6,8,9]:\n",
    "    print(x)"
   ]
  },
  {
   "cell_type": "code",
   "execution_count": 4,
   "metadata": {},
   "outputs": [],
   "source": [
    "numero = 7"
   ]
  },
  {
   "cell_type": "code",
   "execution_count": 8,
   "metadata": {},
   "outputs": [
    {
     "name": "stdout",
     "output_type": "stream",
     "text": [
      "8\n"
     ]
    }
   ],
   "source": [
    "numero2 = numero + 1\n",
    "print(numero2)\n",
    "\"color\"\n",
    "color = \"rojo\""
   ]
  },
  {
   "cell_type": "code",
   "execution_count": 9,
   "metadata": {},
   "outputs": [
    {
     "data": {
      "text/plain": [
       "builtin_function_or_method"
      ]
     },
     "execution_count": 9,
     "metadata": {},
     "output_type": "execute_result"
    }
   ],
   "source": [
    "type(print)"
   ]
  },
  {
   "cell_type": "code",
   "execution_count": 14,
   "metadata": {},
   "outputs": [
    {
     "data": {
      "text/plain": [
       "list"
      ]
     },
     "execution_count": 14,
     "metadata": {},
     "output_type": "execute_result"
    }
   ],
   "source": [
    "type(numero)"
   ]
  },
  {
   "cell_type": "code",
   "execution_count": 13,
   "metadata": {},
   "outputs": [],
   "source": [
    "numero = [\"hola\", 5, False]"
   ]
  },
  {
   "cell_type": "code",
   "execution_count": 15,
   "metadata": {},
   "outputs": [
    {
     "name": "stdout",
     "output_type": "stream",
     "text": [
      "4\n"
     ]
    }
   ],
   "source": [
    "numero = 4\n",
    "print(numero)"
   ]
  },
  {
   "cell_type": "code",
   "execution_count": 16,
   "metadata": {},
   "outputs": [
    {
     "data": {
      "text/plain": [
       "True"
      ]
     },
     "execution_count": 16,
     "metadata": {},
     "output_type": "execute_result"
    }
   ],
   "source": [
    "numero == 4"
   ]
  },
  {
   "cell_type": "code",
   "execution_count": null,
   "metadata": {},
   "outputs": [],
   "source": [
    "mi_lista = [8,9,10]\n",
    "\n",
    "lista_gemela = mi_lista.copy()"
   ]
  },
  {
   "cell_type": "code",
   "execution_count": 17,
   "metadata": {},
   "outputs": [
    {
     "data": {
      "text/plain": [
       "12"
      ]
     },
     "execution_count": 17,
     "metadata": {},
     "output_type": "execute_result"
    }
   ],
   "source": [
    "numero.__add__(numero2) # numero + numero2    \n",
    "\n",
    "otro_objeto + otro_objeto_distinto"
   ]
  },
  {
   "cell_type": "code",
   "execution_count": 18,
   "metadata": {},
   "outputs": [
    {
     "name": "stdout",
     "output_type": "stream",
     "text": [
      "Help on built-in function len in module builtins:\n",
      "\n",
      "len(obj, /)\n",
      "    Return the number of items in a container.\n",
      "\n"
     ]
    }
   ],
   "source": [
    "# función\n",
    "# parámetros de entrada ---> FUNCIÓN (hace cosas) ---> retorna UN OBJETO\n",
    "\n",
    "help(len)"
   ]
  },
  {
   "cell_type": "code",
   "execution_count": 21,
   "metadata": {},
   "outputs": [],
   "source": [
    "#help(help)"
   ]
  },
  {
   "cell_type": "code",
   "execution_count": 27,
   "metadata": {},
   "outputs": [
    {
     "data": {
      "text/plain": [
       "3"
      ]
     },
     "execution_count": 27,
     "metadata": {},
     "output_type": "execute_result"
    }
   ],
   "source": [
    "# len, print, sum, max, min\n",
    "mi_lista = [5,10,8]\n",
    "len(mi_lista)"
   ]
  },
  {
   "cell_type": "code",
   "execution_count": 28,
   "metadata": {},
   "outputs": [
    {
     "data": {
      "text/plain": [
       "3"
      ]
     },
     "execution_count": 28,
     "metadata": {},
     "output_type": "execute_result"
    }
   ],
   "source": [
    "n1 = 5\n",
    "n2 = 10\n",
    "n3 = 8\n",
    "len( [n1,   n2,   n3])"
   ]
  },
  {
   "cell_type": "code",
   "execution_count": 29,
   "metadata": {},
   "outputs": [
    {
     "ename": "TypeError",
     "evalue": "object of type 'int' has no len()",
     "output_type": "error",
     "traceback": [
      "\u001b[1;31m---------------------------------------------------------------------------\u001b[0m",
      "\u001b[1;31mTypeError\u001b[0m                                 Traceback (most recent call last)",
      "Cell \u001b[1;32mIn[29], line 1\u001b[0m\n\u001b[1;32m----> 1\u001b[0m \u001b[38;5;28;43mlen\u001b[39;49m\u001b[43m(\u001b[49m\u001b[38;5;241;43m8\u001b[39;49m\u001b[43m)\u001b[49m\n",
      "\u001b[1;31mTypeError\u001b[0m: object of type 'int' has no len()"
     ]
    }
   ],
   "source": [
    "len(8)"
   ]
  },
  {
   "cell_type": "code",
   "execution_count": 30,
   "metadata": {},
   "outputs": [
    {
     "data": {
      "text/plain": [
       "4"
      ]
     },
     "execution_count": 30,
     "metadata": {},
     "output_type": "execute_result"
    }
   ],
   "source": [
    "len(\"hola\")"
   ]
  },
  {
   "cell_type": "code",
   "execution_count": null,
   "metadata": {},
   "outputs": [],
   "source": []
  },
  {
   "cell_type": "code",
   "execution_count": 34,
   "metadata": {},
   "outputs": [
    {
     "name": "stdout",
     "output_type": "stream",
     "text": [
      "4\n"
     ]
    }
   ],
   "source": [
    "#   un solo objeto que se pueda medir su longitud ---->       len  PROCESA ---> retorna un entero que es esa longitud\n",
    "\n",
    "palabra = input(\"introduce una palabra: \")\n",
    "largo = len(palabra)\n",
    "print(largo)"
   ]
  },
  {
   "cell_type": "code",
   "execution_count": null,
   "metadata": {},
   "outputs": [],
   "source": [
    "#      una_funcion (parametro1 = argumento1, parametro2 = argumento2) --> retorna un objeto"
   ]
  },
  {
   "cell_type": "code",
   "execution_count": 41,
   "metadata": {},
   "outputs": [
    {
     "data": {
      "text/plain": [
       "8"
      ]
     },
     "execution_count": 41,
     "metadata": {},
     "output_type": "execute_result"
    }
   ],
   "source": [
    "maximo = max([5,6,7,8])\n",
    "maximo"
   ]
  },
  {
   "cell_type": "code",
   "execution_count": 38,
   "metadata": {},
   "outputs": [
    {
     "data": {
      "text/plain": [
       "8"
      ]
     },
     "execution_count": 38,
     "metadata": {},
     "output_type": "execute_result"
    }
   ],
   "source": [
    "max([5,6,7,8]) # 8"
   ]
  },
  {
   "cell_type": "code",
   "execution_count": 42,
   "metadata": {},
   "outputs": [
    {
     "name": "stdout",
     "output_type": "stream",
     "text": [
      "hola amigos 1 2 3 4 5\n"
     ]
    }
   ],
   "source": [
    "print(\"hola\", \"amigos\", 1,2,3,4,5) # --> None"
   ]
  },
  {
   "cell_type": "code",
   "execution_count": 43,
   "metadata": {},
   "outputs": [
    {
     "data": {
      "text/plain": [
       "list"
      ]
     },
     "execution_count": 43,
     "metadata": {},
     "output_type": "execute_result"
    }
   ],
   "source": [
    "mi_lista = []\n",
    "\n",
    "type(mi_lista)\n"
   ]
  },
  {
   "cell_type": "code",
   "execution_count": 44,
   "metadata": {},
   "outputs": [
    {
     "data": {
      "text/plain": [
       "0"
      ]
     },
     "execution_count": 44,
     "metadata": {},
     "output_type": "execute_result"
    }
   ],
   "source": [
    "len(mi_lista)"
   ]
  },
  {
   "cell_type": "code",
   "execution_count": 46,
   "metadata": {},
   "outputs": [],
   "source": [
    "numero_nuevo = 7\n",
    "valor_retornado = mi_lista.append(numero_nuevo)"
   ]
  },
  {
   "cell_type": "code",
   "execution_count": 47,
   "metadata": {},
   "outputs": [
    {
     "data": {
      "text/plain": [
       "[7]"
      ]
     },
     "execution_count": 47,
     "metadata": {},
     "output_type": "execute_result"
    }
   ],
   "source": [
    "mi_lista"
   ]
  },
  {
   "cell_type": "code",
   "execution_count": 48,
   "metadata": {},
   "outputs": [
    {
     "data": {
      "text/plain": [
       "[7]"
      ]
     },
     "execution_count": 48,
     "metadata": {},
     "output_type": "execute_result"
    }
   ],
   "source": [
    "mi_lista"
   ]
  },
  {
   "cell_type": "code",
   "execution_count": 54,
   "metadata": {},
   "outputs": [
    {
     "data": {
      "text/plain": [
       "7"
      ]
     },
     "execution_count": 54,
     "metadata": {},
     "output_type": "execute_result"
    }
   ],
   "source": [
    "mi_lista[0] # en las colecciones se accede a lo de dentro con corchetes"
   ]
  },
  {
   "cell_type": "code",
   "execution_count": 55,
   "metadata": {},
   "outputs": [],
   "source": [
    "mi_lista.append(8)  # \"todo\" son funciones. Las funciones que pertenecen a una clase, es decir, las funciones de las listas son \n",
    "# métodos de listas, las funciones de los strings, son métodos de los strinsg\n",
    "\n",
    "mi_lista.insert()"
   ]
  },
  {
   "cell_type": "code",
   "execution_count": 59,
   "metadata": {},
   "outputs": [
    {
     "name": "stdout",
     "output_type": "stream",
     "text": [
      "10\n",
      "26\n",
      "14.8\n"
     ]
    }
   ],
   "source": [
    "# las built-in functions son \"para todos los objetos\"\n",
    "lista1 = [1,2,3,4]\n",
    "print(sum(lista1))\n",
    "\n",
    "tupla1 = (5,6,7,8)\n",
    "print(sum( tupla1 ))\n",
    "\n",
    "lista2 = [2, 4, 7.8, True]\n",
    "print(sum(lista2))"
   ]
  },
  {
   "cell_type": "code",
   "execution_count": 62,
   "metadata": {},
   "outputs": [
    {
     "name": "stdout",
     "output_type": "stream",
     "text": [
      "[1, 2, 3, 4] (2, 3, 4, 5) True hola {}\n"
     ]
    }
   ],
   "source": [
    "lista3 = [1,2,3,4]\n",
    "tupla3 = (2,3,4,5)\n",
    "mi_booleano = True\n",
    "mi_str = \"hola\"\n",
    "diccionario = {}\n",
    "\n",
    "print(lista3, tupla3,  mi_booleano,  mi_str,  diccionario)"
   ]
  },
  {
   "cell_type": "code",
   "execution_count": 64,
   "metadata": {},
   "outputs": [
    {
     "data": {
      "text/plain": [
       "['__add__',\n",
       " '__class__',\n",
       " '__contains__',\n",
       " '__delattr__',\n",
       " '__dir__',\n",
       " '__doc__',\n",
       " '__eq__',\n",
       " '__format__',\n",
       " '__ge__',\n",
       " '__getattribute__',\n",
       " '__getitem__',\n",
       " '__getnewargs__',\n",
       " '__getstate__',\n",
       " '__gt__',\n",
       " '__hash__',\n",
       " '__init__',\n",
       " '__init_subclass__',\n",
       " '__iter__',\n",
       " '__le__',\n",
       " '__len__',\n",
       " '__lt__',\n",
       " '__mod__',\n",
       " '__mul__',\n",
       " '__ne__',\n",
       " '__new__',\n",
       " '__reduce__',\n",
       " '__reduce_ex__',\n",
       " '__repr__',\n",
       " '__rmod__',\n",
       " '__rmul__',\n",
       " '__setattr__',\n",
       " '__sizeof__',\n",
       " '__str__',\n",
       " '__subclasshook__',\n",
       " 'capitalize',\n",
       " 'casefold',\n",
       " 'center',\n",
       " 'count',\n",
       " 'encode',\n",
       " 'endswith',\n",
       " 'expandtabs',\n",
       " 'find',\n",
       " 'format',\n",
       " 'format_map',\n",
       " 'index',\n",
       " 'isalnum',\n",
       " 'isalpha',\n",
       " 'isascii',\n",
       " 'isdecimal',\n",
       " 'isdigit',\n",
       " 'isidentifier',\n",
       " 'islower',\n",
       " 'isnumeric',\n",
       " 'isprintable',\n",
       " 'isspace',\n",
       " 'istitle',\n",
       " 'isupper',\n",
       " 'join',\n",
       " 'ljust',\n",
       " 'lower',\n",
       " 'lstrip',\n",
       " 'maketrans',\n",
       " 'partition',\n",
       " 'removeprefix',\n",
       " 'removesuffix',\n",
       " 'replace',\n",
       " 'rfind',\n",
       " 'rindex',\n",
       " 'rjust',\n",
       " 'rpartition',\n",
       " 'rsplit',\n",
       " 'rstrip',\n",
       " 'split',\n",
       " 'splitlines',\n",
       " 'startswith',\n",
       " 'strip',\n",
       " 'swapcase',\n",
       " 'title',\n",
       " 'translate',\n",
       " 'upper',\n",
       " 'zfill']"
      ]
     },
     "execution_count": 64,
     "metadata": {},
     "output_type": "execute_result"
    }
   ],
   "source": [
    "dir(mi_str)"
   ]
  },
  {
   "cell_type": "code",
   "execution_count": 68,
   "metadata": {},
   "outputs": [
    {
     "name": "stdout",
     "output_type": "stream",
     "text": [
      "hola\n",
      "['hola', 7]\n",
      "7\n",
      "['hola']\n",
      "hola\n",
      "[8]\n"
     ]
    },
    {
     "data": {
      "text/plain": [
       "8"
      ]
     },
     "execution_count": 68,
     "metadata": {},
     "output_type": "execute_result"
    }
   ],
   "source": [
    "otro_str_en_minusculas = mi_str.lower()\n",
    "print(otro_str_en_minusculas)\n",
    "\n",
    "mi_lista = []\n",
    "\n",
    "mi_lista.append(7)\n",
    "\n",
    "mi_lista.insert(0, \"hola\")\n",
    "print(mi_lista)\n",
    "\n",
    "ultimo = mi_lista.pop()\n",
    "\n",
    "print(ultimo)\n",
    "print(mi_lista)\n",
    "\n",
    "mi_lista.append(8)\n",
    "primero = mi_lista.pop(0)\n",
    "\n",
    "print(primero)\n",
    "print(mi_lista)\n",
    "\n",
    "mi_lista[0]\n"
   ]
  },
  {
   "cell_type": "code",
   "execution_count": 74,
   "metadata": {},
   "outputs": [
    {
     "name": "stdout",
     "output_type": "stream",
     "text": [
      "hola__X__1__X__2__X__3 lalala\n",
      "\n",
      "\n",
      "\n",
      "adiós\n"
     ]
    }
   ],
   "source": [
    "print(\"hola\", 1, 2, 3, sep = \"__X__\", end = \" \")\n",
    "print(\"lalala\")\n",
    "print(end = \"\\n\")\n",
    "print(end = \"\\n\")\n",
    "print(end = \"\\n\")\n",
    "print(\"adiós\", end = \"\\n\")"
   ]
  },
  {
   "cell_type": "code",
   "execution_count": 77,
   "metadata": {},
   "outputs": [
    {
     "data": {
      "text/plain": [
       "[[5, 6, 7, [8]], [5, 6, 7, [8]], 8]"
      ]
     },
     "execution_count": 77,
     "metadata": {},
     "output_type": "execute_result"
    }
   ],
   "source": [
    "mi_lista.insert(0, [5,6,7,[8]])\n",
    "mi_lista"
   ]
  },
  {
   "cell_type": "code",
   "execution_count": 78,
   "metadata": {},
   "outputs": [],
   "source": [
    "puerta_abierta = False\n",
    "saludo = \"hola\"\n",
    "\n",
    "if puerta_abierta:\n",
    "    print(saludo)\n",
    "    \n"
   ]
  },
  {
   "cell_type": "code",
   "execution_count": 79,
   "metadata": {},
   "outputs": [
    {
     "name": "stdout",
     "output_type": "stream",
     "text": [
      "no he podido entrar\n"
     ]
    }
   ],
   "source": [
    "if puerta_abierta:\n",
    "    print(saludo)\n",
    "    \n",
    "else:\n",
    "    print(\"no he podido entrar\")"
   ]
  },
  {
   "cell_type": "code",
   "execution_count": 80,
   "metadata": {},
   "outputs": [
    {
     "name": "stdout",
     "output_type": "stream",
     "text": [
      "no he podido entrar\n"
     ]
    }
   ],
   "source": [
    "temperatura = 25\n",
    "\n",
    "if puerta_abierta and temperatura == 25:\n",
    "    print(saludo)\n",
    "    temperatura = temperatura + 5\n",
    "    \n",
    "else:\n",
    "    print(\"no he podido entrar\")"
   ]
  },
  {
   "cell_type": "code",
   "execution_count": 92,
   "metadata": {},
   "outputs": [
    {
     "name": "stdout",
     "output_type": "stream",
     "text": [
      "las vidas que te quedan son: 3\n",
      "has ganado\n",
      "4\n"
     ]
    }
   ],
   "source": [
    "vidas = 3\n",
    "solucion = 4\n",
    "\n",
    "try:\n",
    "    leido = int(float(input(\"Introduzca un número entre 0 y 10: \").replace(',','.') )  )\n",
    "    \n",
    "    while vidas > 0:\n",
    "        if leido == 4:\n",
    "            print(\"has ganado\")\n",
    "            break\n",
    "        else:\n",
    "            print(\"las vidas que te quedan son:\", vidas)\n",
    "            leido = int(float(input(\"Introduzca un número entre 0 y 10: \").replace(',','.') )  )\n",
    "            vidas = vidas - 1\n",
    "    \n",
    "    \n",
    "except:\n",
    "    leido = \"error en el proceso\"\n",
    "    \n",
    "print(leido)"
   ]
  },
  {
   "cell_type": "code",
   "execution_count": 95,
   "metadata": {},
   "outputs": [
    {
     "name": "stdout",
     "output_type": "stream",
     "text": [
      "esto me gusta más\n"
     ]
    }
   ],
   "source": [
    "\n",
    "if temperatura >0 and temperatura < 5:\n",
    "    print(\"mucho frío\")\n",
    "else:\n",
    "    if temperatura >=5 and temperatura <= 10:\n",
    "        print(\"bastante frío\")\n",
    "    else:\n",
    "        if temperatura > 10 and temperatura < 15:\n",
    "            print(\"fresquito\")\n",
    "        else:\n",
    "            print(\"esto me gusta más\")\n",
    "            \n"
   ]
  },
  {
   "cell_type": "code",
   "execution_count": 101,
   "metadata": {},
   "outputs": [
    {
     "name": "stdout",
     "output_type": "stream",
     "text": [
      "bastante frío\n"
     ]
    }
   ],
   "source": [
    "\n",
    "temperatura = 7\n",
    "if temperatura >0 and temperatura < 5:\n",
    "    print(\"mucho frío\")\n",
    "elif temperatura >=5 and temperatura <= 10:\n",
    "    print(\"bastante frío\")   \n",
    "elif temperatura < 15:\n",
    "    print(\"fresquito\")\n",
    "else:\n",
    "    print(\"esto me gusta más\")"
   ]
  },
  {
   "cell_type": "code",
   "execution_count": null,
   "metadata": {},
   "outputs": [],
   "source": [
    "# \"4.4\" --> 4 ERROR!!!!!!!!!!!!!\n",
    "#\"4\" --> 4\n",
    "# \"4.4\" --> 4.4 --> 4\n"
   ]
  },
  {
   "cell_type": "code",
   "execution_count": 82,
   "metadata": {},
   "outputs": [
    {
     "name": "stdout",
     "output_type": "stream",
     "text": [
      "algo\n"
     ]
    }
   ],
   "source": [
    "leido = input(\"pon algo\")\n",
    "print(leido)"
   ]
  },
  {
   "cell_type": "code",
   "execution_count": 102,
   "metadata": {},
   "outputs": [
    {
     "name": "stdout",
     "output_type": "stream",
     "text": [
      "0\n",
      "1\n",
      "2\n",
      "3\n",
      "4\n",
      "5\n",
      "6\n",
      "7\n",
      "8\n",
      "9\n"
     ]
    }
   ],
   "source": [
    "for elemento in range(10):\n",
    "    print(elemento)"
   ]
  },
  {
   "cell_type": "code",
   "execution_count": 103,
   "metadata": {},
   "outputs": [
    {
     "name": "stdout",
     "output_type": "stream",
     "text": [
      "rojo\n",
      "azul\n",
      "verde\n"
     ]
    }
   ],
   "source": [
    "mi_lista = [\"rojo\", \"azul\", \"verde\"]\n",
    "\n",
    "for indice in range(len(mi_lista)):\n",
    "    print(mi_lista[indice])"
   ]
  },
  {
   "cell_type": "code",
   "execution_count": 104,
   "metadata": {},
   "outputs": [
    {
     "name": "stdout",
     "output_type": "stream",
     "text": [
      "rojo ----> rojo\n",
      "azul ----> azul\n",
      "verde ----> verde\n"
     ]
    }
   ],
   "source": [
    "for (indice, valor) in enumerate(mi_lista):  # (indice, valor) = (0, \"rojo\")\n",
    "    print(mi_lista[indice], \"---->\",  valor)\n",
    "    "
   ]
  },
  {
   "cell_type": "code",
   "execution_count": null,
   "metadata": {},
   "outputs": [],
   "source": [
    "# para ver con Pythontutor\n",
    "n1 = 3\n",
    "n2 = 8\n",
    "n3 = 9\n",
    "\t\n",
    "lista_rara = []\n",
    "\t\n",
    "mi_lista_de_tuplas = [(3,4,5), (8,9,10,11,12, [])]\n",
    "l2 = mi_lista_de_tuplas\n",
    "\n",
    "for una_tupla in mi_lista_de_tuplas:\n",
    "    print(una_tupla)\n",
    "    print(sum(una_tupla[0:3]))\n",
    "    lista_rara.append(una_tupla[0:1] + una_tupla[-2:-1])\n",
    "\t    \n",
    "mi_lista_de_tuplas[-1][-1].append(\"hola\")\n",
    "\t\n",
    "mi_lista_de_tuplas = (3,4,5) + (8,9,10,11,12, lista_rara)\n",
    "\n"
   ]
  }
 ],
 "metadata": {
  "kernelspec": {
   "display_name": "Python 3",
   "language": "python",
   "name": "python3"
  },
  "language_info": {
   "codemirror_mode": {
    "name": "ipython",
    "version": 3
   },
   "file_extension": ".py",
   "mimetype": "text/x-python",
   "name": "python",
   "nbconvert_exporter": "python",
   "pygments_lexer": "ipython3",
   "version": "3.12.3"
  }
 },
 "nbformat": 4,
 "nbformat_minor": 2
}
